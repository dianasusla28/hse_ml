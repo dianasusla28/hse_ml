{
  "nbformat": 4,
  "nbformat_minor": 0,
  "metadata": {
    "kernelspec": {
      "display_name": "Python 3",
      "language": "python",
      "name": "python3"
    },
    "language_info": {
      "codemirror_mode": {
        "name": "ipython",
        "version": 3
      },
      "file_extension": ".py",
      "mimetype": "text/x-python",
      "name": "python",
      "nbconvert_exporter": "python",
      "pygments_lexer": "ipython3",
      "version": "3.8.5"
    },
    "colab": {
      "name": "homework-practice-01-pandas.ipynb",
      "provenance": [],
      "collapsed_sections": []
    }
  },
  "cells": [
    {
      "cell_type": "markdown",
      "metadata": {
        "id": "0c-WeaHn_kXP",
        "colab_type": "text"
      },
      "source": [
        "## Машинное обучение 1, ПМИ ФКН ВШЭ\n",
        "\n",
        "## Практическое домашнее задание 1\n",
        "\n",
        "### Общая информация\n",
        "\n",
        "Дата выдачи: 11.09.2020\n",
        "\n",
        "Мягкий дедлайн: 04:59MSK 21.09.2020 (но лучше сдайте пораньше и успейте выспаться)\n",
        "\n",
        "Жесткий дедлайн: 23:59MSK 24.09.2020"
      ]
    },
    {
      "cell_type": "markdown",
      "metadata": {
        "id": "2O1AFPZy_kXY",
        "colab_type": "text"
      },
      "source": [
        "### О задании\n",
        "\n",
        "Задание состоит из двух разделов, посвященных работе с табличными данными с помощью библиотеки pandas и визуализации с помощью matplotlib. В первом разделе вам предстоит выполнить базовые задания с помощью вышеуказанных библиотек, а во втором распределить студентов по курсам. Баллы даются за выполнение отдельных пунктов. Задачи в рамках одного раздела рекомендуется решать в том порядке, в котором они даны в задании.\n",
        "\n",
        "Задание направлено на освоение jupyter notebook (будет использоваться в дальнейших заданиях), библиотек pandas и matplotlib.\n",
        "\n",
        "### Оценивание и штрафы\n",
        "Каждая из задач имеет определенную «стоимость» (указана в скобках около задачи). Максимально допустимая оценка за работу — 10 баллов.\n",
        "\n",
        "Сдавать задание после жёсткого дедлайна нельзя. При выставлении неполного балла за задание в связи с наличием ошибок на усмотрение проверяющего предусмотрена возможность исправить работу на указанных в ответном письме условиях.\n",
        "\n",
        "Задание выполняется самостоятельно. «Похожие» решения считаются плагиатом и все задействованные студенты (в том числе те, у кого списали) не могут получить за него больше 0 баллов (подробнее о плагиате см. на странице курса). Если вы нашли решение какого-то из заданий (или его часть) в открытом источнике, необходимо указать ссылку на этот источник (скорее всего вы будете не единственным, кто это нашел, поэтому чтобы исключить подозрение в плагиате, необходима ссылка на источник).\n",
        "\n",
        "### Формат сдачи\n",
        "Задания сдаются через систему Anytask. Инвайт можно получить у семинариста или ассистента. Присылать необходимо ноутбук с выполненным заданием. Сам ноутбук называйте в формате homework-practice-01-pandas-Username.ipynb, где Username — ваша фамилия.\n",
        "\n",
        "Для удобства проверки самостоятельно посчитайте свою максимальную оценку (исходя из набора решенных задач) и укажите ниже.\n",
        "\n",
        "Оценка: 10 (12)."
      ]
    },
    {
      "cell_type": "markdown",
      "metadata": {
        "id": "jX80oJMt_kXd",
        "colab_type": "text"
      },
      "source": [
        "## 0. Введение"
      ]
    },
    {
      "cell_type": "markdown",
      "metadata": {
        "id": "6hdvZs6T_kXi",
        "colab_type": "text"
      },
      "source": [
        "Сейчас мы находимся в jupyter-ноутбуке (или ipython-ноутбуке). Это удобная среда для написания кода, проведения экспериментов, изучения данных, построения визуализаций и других нужд, не связанных с написанием production-кода. \n",
        "\n",
        "Ноутбук состоит из ячеек, каждая из которых может быть либо ячейкой с кодом, либо ячейкой с текстом размеченным и неразмеченным. Текст поддерживает markdown-разметку и формулы в Latex.\n",
        "\n",
        "Для работы с содержимым ячейки используется *режим редактирования* (*Edit mode*, включается нажатием клавиши **Enter** после выбора ячейки), а для навигации между ячейками искользуется *командный режим* (*Command mode*, включается нажатием клавиши **Esc**). Тип ячейки можно задать в командном режиме либо с помощью горячих клавиш (**y** to code, **m** to markdown, **r** to edit raw text), либо в меню *Cell -> Cell type*. \n",
        "\n",
        "После заполнения ячейки нужно нажать *Shift + Enter*, эта команда обработает содержимое ячейки: проинтерпретирует код или сверстает размеченный текст."
      ]
    },
    {
      "cell_type": "code",
      "metadata": {
        "id": "77fnzflT_kXn",
        "colab_type": "code",
        "colab": {
          "base_uri": "https://localhost:8080/",
          "height": 35
        },
        "outputId": "99740e45-93b4-40bb-a812-a594b8908d7f"
      },
      "source": [
        "# ячейка с кодом, при выполнении которой появится output\n",
        "2 + 2"
      ],
      "execution_count": 591,
      "outputs": [
        {
          "output_type": "execute_result",
          "data": {
            "text/plain": [
              "4"
            ]
          },
          "metadata": {
            "tags": []
          },
          "execution_count": 591
        }
      ]
    },
    {
      "cell_type": "markdown",
      "metadata": {
        "id": "aeXk5j13_kX1",
        "colab_type": "text"
      },
      "source": [
        "Ячейка с неразмеченыным текстом."
      ]
    },
    {
      "cell_type": "markdown",
      "metadata": {
        "id": "UOBKlN8a_kX4",
        "colab_type": "text"
      },
      "source": [
        "Попробуйте создать свои ячейки, написать какой-нибудь код и текст какой-нибудь формулой."
      ]
    },
    {
      "cell_type": "code",
      "metadata": {
        "id": "RweWlddu_kX6",
        "colab_type": "code",
        "colab": {
          "base_uri": "https://localhost:8080/",
          "height": 191
        },
        "outputId": "22234d72-a93f-4a9d-eadd-b310b2c256d4"
      },
      "source": [
        "print(\"Какой-нибудь код(т):\\n\")\n",
        "\n",
        "print(\"       ／＞　  フ\")\n",
        "print(\"　     | 　_　 _|\")\n",
        "print(\"      ／`ミ _x 彡\")\n",
        "print(\"     /　　　 　 |\")\n",
        "print(\"    /　 ヽ　　 ﾉ\")\n",
        "print(\"／￣|　　 |　|　|\")\n",
        "print(\"| (￣ヽ＿_ヽ_)_)\")\n",
        "print(\"＼二つ\")"
      ],
      "execution_count": 592,
      "outputs": [
        {
          "output_type": "stream",
          "text": [
            "Какой-нибудь код(т):\n",
            "\n",
            "       ／＞　  フ\n",
            "　     | 　_　 _|\n",
            "      ／`ミ _x 彡\n",
            "     /　　　 　 |\n",
            "    /　 ヽ　　 ﾉ\n",
            "／￣|　　 |　|　|\n",
            "| (￣ヽ＿_ヽ_)_)\n",
            "＼二つ\n"
          ],
          "name": "stdout"
        }
      ]
    },
    {
      "cell_type": "markdown",
      "metadata": {
        "id": "ucFRytYWLmAF",
        "colab_type": "text"
      },
      "source": [
        "Пользуясь случаем, передаю привет своему докладу по временным рядам 💜\n",
        "\n",
        "$$ARIMA(p, d, q) : {\\mathop{\\nabla}}^{d}Y_t = \\alpha \\ + \\ \\phi_1 Y_{t-1} \\ + \\ \\phi_2 Y_{t-2} \\ + \\ ... \\ + \\ \\phi_p Y_{t-p} \\ + $$ $$+ \\ \\varepsilon_t \\ + \\ \\theta_1 \\varepsilon_{t-1} \\ + \\ \\theta_2 \\varepsilon_{t-2} \\ + \\ ... \\ + \\ \\theta_q \\varepsilon_{t-q}$$"
      ]
    },
    {
      "cell_type": "markdown",
      "metadata": {
        "id": "73WxO4QOHhIw",
        "colab_type": "text"
      },
      "source": [
        "А теперь минутка мотивации и поддержки..."
      ]
    },
    {
      "cell_type": "markdown",
      "metadata": {
        "id": "72jEEnmVHhZA",
        "colab_type": "text"
      },
      "source": [
        "\n",
        "<img src=\"https://sun9-76.userapi.com/RzY2Dww7SqDUrRuwqBuXXylR9hQLxtvW0Q11iw/2HhPpaFJwJs.jpg\">\n",
        "\n",
        "\n"
      ]
    },
    {
      "cell_type": "markdown",
      "metadata": {
        "id": "cYFmVlBsNC0O",
        "colab_type": "text"
      },
      "source": [
        "Ну всё, теперь можно и начинать!\n",
        "✨✨✨"
      ]
    },
    {
      "cell_type": "markdown",
      "metadata": {
        "id": "pmfLpb94_kYH",
        "colab_type": "text"
      },
      "source": [
        "[Здесь](https://athena.brynmawr.edu/jupyter/hub/dblank/public/Jupyter%20Notebook%20Users%20Manual.ipynb) находится <s>не</s>большая заметка о используемом языке разметки Markdown. Он позволяет:\n",
        "\n",
        "0. Составлять упорядоченные списки\n",
        "1. Выделять *текст* <s>при</s> **необходимости**\n",
        "2. Добавлять [ссылки](http://imgs.xkcd.com/comics/the_universal_label.png)\n",
        "\n",
        "\n",
        "* Составлять неупорядоченные списки\n",
        "\n",
        "Делать вставки с помощью LaTex:\n",
        "    \n",
        "$\n",
        "\\left\\{\n",
        "\\begin{array}{ll}\n",
        "x = 16 \\sin^3 (t) \\\\ \n",
        "y = 13 \\cos (t) - 5 \\cos (2t) - 2 \\cos (3t) - \\cos (4t) \\\\\n",
        "t \\in [0, 2 \\pi]\n",
        "\\end{array}\n",
        "\\right.$"
      ]
    },
    {
      "cell_type": "markdown",
      "metadata": {
        "id": "ZYtKjurZ_kYK",
        "colab_type": "text"
      },
      "source": [
        "А ещё можно вставлять картинки, или гифки, или что захотите:\n",
        "\n",
        "<img src=\"https://media1.tenor.com/images/9b8fbe9214504bcf6c60fe4e4f7e114e/tenor.gif?itemid=5416416\" style=\"width: 400px\">"
      ]
    },
    {
      "cell_type": "markdown",
      "metadata": {
        "id": "WBoSaVmY_kYM",
        "colab_type": "text"
      },
      "source": [
        "### Google Colab"
      ]
    },
    {
      "cell_type": "markdown",
      "metadata": {
        "id": "seNMLn6l_kYP",
        "colab_type": "text"
      },
      "source": [
        "Что за колаб? \n",
        "\n",
        "**Google Colab (Colaboratory)** это **Jupyter Notebook + Cloud + Google Drive.**\n",
        "\n",
        "Компания Google предоставляет возможность бесплатно запускать ноутбуки (предварительно загрузив их на свой гугл-диск) прямо в облаке. При этом вам не требуется установка никаких пакетов на свою машину, а работать можно прямиком из браузера. Вот ссылка:"
      ]
    },
    {
      "cell_type": "markdown",
      "metadata": {
        "id": "qp9fWbTe_kYR",
        "colab_type": "text"
      },
      "source": [
        "https://colab.research.google.com"
      ]
    },
    {
      "cell_type": "markdown",
      "metadata": {
        "id": "L07mgW_S_kYS",
        "colab_type": "text"
      },
      "source": [
        "При использовании вы увидете много сходств с jupyter ноутбуком. Одним из преимуществ является доступность GPU, соответствующую опцию можно активировать в настройках сервиса. При желании вы сможете найти в интернете много туториалов по использованию или разобраться самостоятельно =)"
      ]
    },
    {
      "cell_type": "markdown",
      "metadata": {
        "id": "Dxq1Dtqi_kYU",
        "colab_type": "text"
      },
      "source": [
        "## 1. Табличные данные и Pandas"
      ]
    },
    {
      "cell_type": "markdown",
      "metadata": {
        "id": "KdicTvns_kYW",
        "colab_type": "text"
      },
      "source": [
        "Pandas — удобная библиотека для работы с табличными данными в Python, если данных не слишком много и они помещаются в оперативную память вашего компьютера. Несмотря на неэффективность реализации и некоторые проблемы, библиотека стала стандартом в анализе данных.\n",
        "\n",
        "Основной объект в pandas — это DataFrame, представляющий собой таблицу с именованными колонками различных типов, индексом (может быть многоуровневым). DataFrame можно создавать, считывая таблицу из файла или задавая вручную из других объектов.\n",
        "\n",
        "В этой части потребуется выполнить несколько небольших заданий. Можно пойти двумя путями: сначала изучить материалы, а потом приступить к заданиям, или же разбираться \"по ходу\". Выбирайте сами.\n",
        "\n",
        "Материалы:\n",
        "1. [Pandas за 10 минут из официального руководства](http://pandas.pydata.org/pandas-docs/stable/10min.html)\n",
        "2. [Документация](http://pandas.pydata.org/pandas-docs/stable/index.html) (стоит обращаться, если не понятно, как вызывать конкретный метод)\n",
        "3. [Примеры использования функционала](http://nbviewer.jupyter.org/github/justmarkham/pandas-videos/blob/master/pandas.ipynb)\n",
        "\n",
        "Многие из заданий можно выполнить несколькими способами. Не существуют единственно верного, но попробуйте максимально задействовать арсенал pandas и ориентируйтесь на простоту и понятность вашего кода. Мы не будем подсказывать, что нужно использовать для решения конкретной задачи, попробуйте находить необходимый функционал сами (название метода чаще всего очевидно). В помощь вам документация, поиск и stackoverflow."
      ]
    },
    {
      "cell_type": "code",
      "metadata": {
        "id": "CQsYaclD_kYY",
        "colab_type": "code",
        "colab": {
          "base_uri": "https://localhost:8080/",
          "height": 35
        },
        "outputId": "d6d0ddd3-a328-4145-e7ed-f355268cf01c"
      },
      "source": [
        "%pylab inline  \n",
        "import pandas as pd"
      ],
      "execution_count": 593,
      "outputs": [
        {
          "output_type": "stream",
          "text": [
            "Populating the interactive namespace from numpy and matplotlib\n"
          ],
          "name": "stdout"
        }
      ]
    },
    {
      "cell_type": "markdown",
      "metadata": {
        "id": "XdI90PVg_kYj",
        "colab_type": "text"
      },
      "source": [
        "Скачаем данные:"
      ]
    },
    {
      "cell_type": "code",
      "metadata": {
        "id": "eJhdYBho_kYk",
        "colab_type": "code",
        "colab": {}
      },
      "source": [
        "!wget  -O 'end_seminar.xlsx' -q 'https://www.dropbox.com/s/f4rm8sjc3v99p0m/_end_seminar.xlsx?dl=0'"
      ],
      "execution_count": 594,
      "outputs": []
    },
    {
      "cell_type": "markdown",
      "metadata": {
        "id": "3glw75I8_kYr",
        "colab_type": "text"
      },
      "source": [
        "Для пользователей Windows: скачайте файл самостоятельно и поместите его в папку с тетрадкой. Или попробуйте один из следующих вариантов:"
      ]
    },
    {
      "cell_type": "code",
      "metadata": {
        "id": "_v2oogoT_kYs",
        "colab_type": "code",
        "colab": {
          "base_uri": "https://localhost:8080/",
          "height": 35
        },
        "outputId": "5626fe35-0044-4dc1-a3b7-2ff76fa0133d"
      },
      "source": [
        "!powershell iwr -outf somefile https://somesite/somefile"
      ],
      "execution_count": 595,
      "outputs": [
        {
          "output_type": "stream",
          "text": [
            "/bin/bash: powershell: command not found\n"
          ],
          "name": "stdout"
        }
      ]
    },
    {
      "cell_type": "code",
      "metadata": {
        "id": "o6pUXAQd_kYy",
        "colab_type": "code",
        "colab": {
          "base_uri": "https://localhost:8080/",
          "height": 53
        },
        "outputId": "e0ea5c70-ac6b-4cdc-a56f-d2294f712dae"
      },
      "source": [
        "!pip install wget\n",
        "import wget \n",
        "wget.download('https://dropbox.com/s/f4rm8sjc3v99p0m/_end_seminar.xlsx?dl=1', 'end_seminar.xlsx')"
      ],
      "execution_count": 596,
      "outputs": [
        {
          "output_type": "stream",
          "text": [
            "Requirement already satisfied: wget in /usr/local/lib/python3.6/dist-packages (3.2)\n"
          ],
          "name": "stdout"
        },
        {
          "output_type": "execute_result",
          "data": {
            "application/vnd.google.colaboratory.intrinsic+json": {
              "type": "string"
            },
            "text/plain": [
              "'end_seminar (8).xlsx'"
            ]
          },
          "metadata": {
            "tags": []
          },
          "execution_count": 596
        }
      ]
    },
    {
      "cell_type": "markdown",
      "metadata": {
        "id": "6fYR7LQm_kY2",
        "colab_type": "text"
      },
      "source": [
        "##### В первой части задания (до раздела \"Распределение студентов по курсам\") использование циклов запрещается и повлечет за собой снижение оценки"
      ]
    },
    {
      "cell_type": "markdown",
      "metadata": {
        "id": "MrRtMHYb_kY3",
        "colab_type": "text"
      },
      "source": [
        "Для каждой задачи из этого раздела вы должны написать код для получения ответа, а также дать текстовый ответ, если он предполагается.\n",
        "\n",
        "На некоторые вопросы вы можете получить путём пристального взгляда на таблицу, но это не будет засчитываться. Вы в любом случае должны получить ответ с помощью кода."
      ]
    },
    {
      "cell_type": "markdown",
      "metadata": {
        "id": "zzuJszwD_kY4",
        "colab_type": "text"
      },
      "source": [
        "#### 1. [0 баллов] Откройте файл с таблицей (не забудьте про её формат). Выведите последние 10 строк.\n",
        "\n",
        "Посмотрите на данные и скажите, что они из себя представляют, сколько в таблице строк, какие столбцы? (на это не надо отвечать, просто подумайте об этом)"
      ]
    },
    {
      "cell_type": "code",
      "metadata": {
        "id": "YP5_jN_a_kY5",
        "colab_type": "code",
        "colab": {
          "base_uri": "https://localhost:8080/",
          "height": 861
        },
        "outputId": "c20091ee-2bee-4152-c7bb-2c1719ba0a95"
      },
      "source": [
        "data = pd.read_excel('end_seminar.xlsx')\n",
        "print('Последние 10 строк таблицы выглядят следующим образом:')\n",
        "data.tail(10)\n"
      ],
      "execution_count": 597,
      "outputs": [
        {
          "output_type": "stream",
          "text": [
            "Последние 10 строк таблицы выглядят следующим образом:\n"
          ],
          "name": "stdout"
        },
        {
          "output_type": "execute_result",
          "data": {
            "text/html": [
              "<div>\n",
              "<style scoped>\n",
              "    .dataframe tbody tr th:only-of-type {\n",
              "        vertical-align: middle;\n",
              "    }\n",
              "\n",
              "    .dataframe tbody tr th {\n",
              "        vertical-align: top;\n",
              "    }\n",
              "\n",
              "    .dataframe thead th {\n",
              "        text-align: right;\n",
              "    }\n",
              "</style>\n",
              "<table border=\"1\" class=\"dataframe\">\n",
              "  <thead>\n",
              "    <tr style=\"text-align: right;\">\n",
              "      <th></th>\n",
              "      <th>timestamp</th>\n",
              "      <th>id</th>\n",
              "      <th>rating</th>\n",
              "      <th>18_group</th>\n",
              "      <th>is_mi</th>\n",
              "      <th>fall_1</th>\n",
              "      <th>fall_2</th>\n",
              "      <th>fall_3</th>\n",
              "      <th>spring_1</th>\n",
              "      <th>spring_2</th>\n",
              "      <th>spring_3</th>\n",
              "      <th>is_first_time</th>\n",
              "      <th>percentile</th>\n",
              "      <th>17_group</th>\n",
              "      <th>blended</th>\n",
              "      <th>is_ml_student</th>\n",
              "    </tr>\n",
              "  </thead>\n",
              "  <tbody>\n",
              "    <tr>\n",
              "      <th>351</th>\n",
              "      <td>2020-05-18 23:58:33.903</td>\n",
              "      <td>8fe79f84f36e3a5d2d6745621321302c</td>\n",
              "      <td>1016</td>\n",
              "      <td>NaN</td>\n",
              "      <td>NaN</td>\n",
              "      <td>Безопасность компьютерных систем</td>\n",
              "      <td>Высокопроизводительные вычисления</td>\n",
              "      <td>Сбор и обработка данных с помощью краудсорсинга</td>\n",
              "      <td>Конфликты и кооперация</td>\n",
              "      <td>Проектирование и разработка высоконагруженных ...</td>\n",
              "      <td>Символьные вычисления</td>\n",
              "      <td>Да</td>\n",
              "      <td>0.942029</td>\n",
              "      <td>174.0</td>\n",
              "      <td>DevOps</td>\n",
              "      <td>NaN</td>\n",
              "    </tr>\n",
              "    <tr>\n",
              "      <th>352</th>\n",
              "      <td>2020-05-18 23:59:20.831</td>\n",
              "      <td>f93afd8e92c336b471aa3bbbc579aefe</td>\n",
              "      <td>1298</td>\n",
              "      <td>NaN</td>\n",
              "      <td>NaN</td>\n",
              "      <td>Высокопроизводительные вычисления</td>\n",
              "      <td>Сбор и обработка данных с помощью краудсорсинга</td>\n",
              "      <td>Statistical Learning Theory</td>\n",
              "      <td>Методы сжатия и передачи медиаданных</td>\n",
              "      <td>Проектирование и разработка высоконагруженных ...</td>\n",
              "      <td>Конфликты и кооперация</td>\n",
              "      <td>Да</td>\n",
              "      <td>0.057971</td>\n",
              "      <td>175.0</td>\n",
              "      <td>DevOps</td>\n",
              "      <td>NaN</td>\n",
              "    </tr>\n",
              "    <tr>\n",
              "      <th>353</th>\n",
              "      <td>2020-05-18 23:59:28.998</td>\n",
              "      <td>9963fc00d9405a35b894cc04a7e19855</td>\n",
              "      <td>1135</td>\n",
              "      <td>NaN</td>\n",
              "      <td>NaN</td>\n",
              "      <td>Безопасность компьютерных систем</td>\n",
              "      <td>Высокопроизводительные вычисления</td>\n",
              "      <td>Безопасность компьютерных систем</td>\n",
              "      <td>Проектирование и разработка высоконагруженных ...</td>\n",
              "      <td>Методы сжатия и передачи медиаданных</td>\n",
              "      <td>Символьные вычисления</td>\n",
              "      <td>Да</td>\n",
              "      <td>0.572464</td>\n",
              "      <td>175.0</td>\n",
              "      <td>DevOps</td>\n",
              "      <td>NaN</td>\n",
              "    </tr>\n",
              "    <tr>\n",
              "      <th>354</th>\n",
              "      <td>2020-05-19 08:55:39.509</td>\n",
              "      <td>98c5a2548d93f26bd4195466e93178b3</td>\n",
              "      <td>1035</td>\n",
              "      <td>NaN</td>\n",
              "      <td>NaN</td>\n",
              "      <td>Байесовские методы машинного обучения</td>\n",
              "      <td>Глубинное обучение в обработке звука</td>\n",
              "      <td>Statistical Learning Theory</td>\n",
              "      <td>Обучение с подкреплением</td>\n",
              "      <td>Генеративные модели в машинном обучении</td>\n",
              "      <td>Методы сжатия и передачи медиаданных</td>\n",
              "      <td>Нет</td>\n",
              "      <td>0.905797</td>\n",
              "      <td>171.0</td>\n",
              "      <td>DevOps</td>\n",
              "      <td>NaN</td>\n",
              "    </tr>\n",
              "    <tr>\n",
              "      <th>355</th>\n",
              "      <td>2020-05-19 18:58:06.283</td>\n",
              "      <td>ba298cbd9be59b84bab33325e956f27e</td>\n",
              "      <td>1155</td>\n",
              "      <td>NaN</td>\n",
              "      <td>NaN</td>\n",
              "      <td>Сбор и обработка данных с помощью краудсорсинга</td>\n",
              "      <td>Байесовские методы машинного обучения</td>\n",
              "      <td>Анализ неструктурированных данных</td>\n",
              "      <td>Конфликты и кооперация</td>\n",
              "      <td>Обучение с подкреплением</td>\n",
              "      <td>Компьютерное зрение</td>\n",
              "      <td>Да</td>\n",
              "      <td>0.507246</td>\n",
              "      <td>171.0</td>\n",
              "      <td>Соревновательный анализ данных</td>\n",
              "      <td>NaN</td>\n",
              "    </tr>\n",
              "    <tr>\n",
              "      <th>356</th>\n",
              "      <td>2020-05-19 19:04:17.873</td>\n",
              "      <td>c5870b37ee3f672e4259dfb2fc02ed8f</td>\n",
              "      <td>1029</td>\n",
              "      <td>NaN</td>\n",
              "      <td>NaN</td>\n",
              "      <td>Statistical Learning Theory</td>\n",
              "      <td>Анализ неструктурированных данных</td>\n",
              "      <td>Сбор и обработка данных с помощью краудсорсинга</td>\n",
              "      <td>Обучение с подкреплением</td>\n",
              "      <td>Конфликты и кооперация</td>\n",
              "      <td>Компьютерное зрение</td>\n",
              "      <td>Да</td>\n",
              "      <td>0.920290</td>\n",
              "      <td>174.0</td>\n",
              "      <td>DevOps</td>\n",
              "      <td>NaN</td>\n",
              "    </tr>\n",
              "    <tr>\n",
              "      <th>357</th>\n",
              "      <td>2020-05-19 20:19:25.815</td>\n",
              "      <td>f44aea1095f9f5b8e2f5f0ed2b17891b</td>\n",
              "      <td>1060</td>\n",
              "      <td>NaN</td>\n",
              "      <td>NaN</td>\n",
              "      <td>Анализ неструктурированных данных</td>\n",
              "      <td>Высокопроизводительные вычисления</td>\n",
              "      <td>Моделирование временных рядов</td>\n",
              "      <td>Конфликты и кооперация</td>\n",
              "      <td>Обучение с подкреплением</td>\n",
              "      <td>Численные методы</td>\n",
              "      <td>Да</td>\n",
              "      <td>0.840580</td>\n",
              "      <td>174.0</td>\n",
              "      <td>DevOps</td>\n",
              "      <td>NaN</td>\n",
              "    </tr>\n",
              "    <tr>\n",
              "      <th>358</th>\n",
              "      <td>2020-05-20 11:54:38.318</td>\n",
              "      <td>d7118b44c7e8fdbbaaca226d2da6fef1</td>\n",
              "      <td>1111</td>\n",
              "      <td>NaN</td>\n",
              "      <td>NaN</td>\n",
              "      <td>Сбор и обработка данных с помощью краудсорсинга</td>\n",
              "      <td>Statistical Learning Theory</td>\n",
              "      <td>Анализ неструктурированных данных</td>\n",
              "      <td>Проектирование и разработка высоконагруженных ...</td>\n",
              "      <td>Методы сжатия и передачи медиаданных</td>\n",
              "      <td>Численные методы</td>\n",
              "      <td>Да</td>\n",
              "      <td>0.652174</td>\n",
              "      <td>173.0</td>\n",
              "      <td>Соревновательный анализ данных</td>\n",
              "      <td>NaN</td>\n",
              "    </tr>\n",
              "    <tr>\n",
              "      <th>359</th>\n",
              "      <td>2020-05-23 21:16:40.916</td>\n",
              "      <td>79d14db48e4737af731960ae212d5134</td>\n",
              "      <td>966</td>\n",
              "      <td>NaN</td>\n",
              "      <td>NaN</td>\n",
              "      <td>Безопасность компьютерных систем</td>\n",
              "      <td>Принятие решений в условиях риска и неопределё...</td>\n",
              "      <td>Анализ неструктурированных данных</td>\n",
              "      <td>Проектирование и разработка высоконагруженных ...</td>\n",
              "      <td>Методы сжатия и передачи медиаданных</td>\n",
              "      <td>Компьютерное зрение</td>\n",
              "      <td>Да</td>\n",
              "      <td>0.985507</td>\n",
              "      <td>172.0</td>\n",
              "      <td>DevOps</td>\n",
              "      <td>NaN</td>\n",
              "    </tr>\n",
              "    <tr>\n",
              "      <th>360</th>\n",
              "      <td>2020-05-23 21:16:40.916</td>\n",
              "      <td>f2d210ace25a841e1e58036b257d5d47</td>\n",
              "      <td>1195</td>\n",
              "      <td>NaN</td>\n",
              "      <td>NaN</td>\n",
              "      <td>Анализ неструктурированных данных</td>\n",
              "      <td>Моделирование временных рядов</td>\n",
              "      <td>Высокопроизводительные вычисления</td>\n",
              "      <td>Обучение с подкреплением</td>\n",
              "      <td>Компьютерное зрение</td>\n",
              "      <td>Методы сжатия и передачи медиаданных</td>\n",
              "      <td>NaN</td>\n",
              "      <td>0.369565</td>\n",
              "      <td>176.0</td>\n",
              "      <td>Соревновательный анализ данных</td>\n",
              "      <td>NaN</td>\n",
              "    </tr>\n",
              "  </tbody>\n",
              "</table>\n",
              "</div>"
            ],
            "text/plain": [
              "                  timestamp  ... is_ml_student\n",
              "351 2020-05-18 23:58:33.903  ...           NaN\n",
              "352 2020-05-18 23:59:20.831  ...           NaN\n",
              "353 2020-05-18 23:59:28.998  ...           NaN\n",
              "354 2020-05-19 08:55:39.509  ...           NaN\n",
              "355 2020-05-19 18:58:06.283  ...           NaN\n",
              "356 2020-05-19 19:04:17.873  ...           NaN\n",
              "357 2020-05-19 20:19:25.815  ...           NaN\n",
              "358 2020-05-20 11:54:38.318  ...           NaN\n",
              "359 2020-05-23 21:16:40.916  ...           NaN\n",
              "360 2020-05-23 21:16:40.916  ...           NaN\n",
              "\n",
              "[10 rows x 16 columns]"
            ]
          },
          "metadata": {
            "tags": []
          },
          "execution_count": 597
        }
      ]
    },
    {
      "cell_type": "markdown",
      "metadata": {
        "id": "wRQPZh_B_kY-",
        "colab_type": "text"
      },
      "source": [
        "#### 2. [0.5 балла] Ответьте на вопросы:\n",
        "1. Сколько было заявок из групп 18-го года набора, а сколько из групп 17-го года?\n",
        "2. Есть ли студенты с равными перцентилями?"
      ]
    },
    {
      "cell_type": "markdown",
      "metadata": {
        "id": "KbnUGbv7GL6S",
        "colab_type": "text"
      },
      "source": [
        "Пункт 1:"
      ]
    },
    {
      "cell_type": "code",
      "metadata": {
        "id": "RTH1qE_D_kY-",
        "colab_type": "code",
        "colab": {
          "base_uri": "https://localhost:8080/",
          "height": 52
        },
        "outputId": "20ef7618-61e3-4a0c-ddce-328b0daf34c6"
      },
      "source": [
        "req_17 = data[data['17_group'].notnull()].shape[0]\n",
        "print('Из групп 2017-го года набора было подано', req_17, 'заявок')\n",
        "\n",
        "req_18 = data[data['18_group'].notnull()].shape[0]\n",
        "print('Из групп 2018-го года набора было подано', req_18, 'заявок')\n"
      ],
      "execution_count": 598,
      "outputs": [
        {
          "output_type": "stream",
          "text": [
            "Из групп 2017-го года набора было подано 138 заявок\n",
            "Из групп 2018-го года набора было подано 223 заявок\n"
          ],
          "name": "stdout"
        }
      ]
    },
    {
      "cell_type": "markdown",
      "metadata": {
        "id": "qbC_3cyGGXtu",
        "colab_type": "text"
      },
      "source": [
        "Пункт 2:\n",
        "\n",
        "(Так как в формулировке задания нет уточнения, сравнивать студентов по курсам или всех сразу, то мною было решено сравнивать по курсам)\n",
        "\n"
      ]
    },
    {
      "cell_type": "code",
      "metadata": {
        "id": "AWaov7jrOWen",
        "colab_type": "code",
        "colab": {
          "base_uri": "https://localhost:8080/",
          "height": 52
        },
        "outputId": "e6fab8d3-00c3-4162-931b-6f5d46863342"
      },
      "source": [
        "data_17 = data[data['17_group'].notnull()].drop_duplicates(subset=['id'], keep='last')\n",
        "#для того, чтобы не учитывать одного и того же человека - удалим дупликаты по id (тут нам неважно какие, так что как-нибудь)\n",
        "\n",
        "if data_17['percentile'].nunique() == data_17.shape[0]:\n",
        "  print('Среди студентов 2017 года набора нет студентов с равными перцентилями')\n",
        "else:\n",
        "  print('Среди студентов 2017 года набора есть студенты с равными перцентилями')\n",
        "\n",
        "data_18 = data[data['18_group'].notnull()].drop_duplicates(subset=['id'], keep='last')\n",
        "if data_18['percentile'].nunique() == data_18.shape[0]:\n",
        "  print('Среди студентов 2018 года набора нет студентов с равными перцентилями')\n",
        "else:\n",
        "  print('Среди студентов 2018 года набора есть студенты с равными перцентилями')\n"
      ],
      "execution_count": 599,
      "outputs": [
        {
          "output_type": "stream",
          "text": [
            "Среди студентов 2017 года набора нет студентов с равными перцентилями\n",
            "Среди студентов 2018 года набора нет студентов с равными перцентилями\n"
          ],
          "name": "stdout"
        }
      ]
    },
    {
      "cell_type": "markdown",
      "metadata": {
        "id": "7B-_GNXN_kZE",
        "colab_type": "text"
      },
      "source": [
        "#### 3. [0.5 балла] Есть ли в данных пропуски? В каких колонках? Сколько их в каждой из этих колонок?"
      ]
    },
    {
      "cell_type": "code",
      "metadata": {
        "id": "0c3G_n10_kZF",
        "colab_type": "code",
        "colab": {
          "base_uri": "https://localhost:8080/",
          "height": 312
        },
        "outputId": "a23e1978-7d00-493d-b057-2b6c1d9d39f5"
      },
      "source": [
        "data.isnull().sum()"
      ],
      "execution_count": 600,
      "outputs": [
        {
          "output_type": "execute_result",
          "data": {
            "text/plain": [
              "timestamp          0\n",
              "id                 0\n",
              "rating             0\n",
              "18_group         138\n",
              "is_mi            343\n",
              "fall_1             0\n",
              "fall_2             0\n",
              "fall_3             0\n",
              "spring_1           0\n",
              "spring_2           0\n",
              "spring_3           0\n",
              "is_first_time      2\n",
              "percentile         0\n",
              "17_group         223\n",
              "blended          223\n",
              "is_ml_student    304\n",
              "dtype: int64"
            ]
          },
          "metadata": {
            "tags": []
          },
          "execution_count": 600
        }
      ]
    },
    {
      "cell_type": "markdown",
      "metadata": {
        "id": "-hh5PpzDR9L1",
        "colab_type": "text"
      },
      "source": [
        "Да, в данных есть пропуски, причем немало.$$$$\n",
        "В первой столбце выведенной мною таблицы представлены названия колонок нашей исходной таблицы, а во втором столбце количество пропусков в каждой из этих колонок. \n",
        "Как мы можем видеть, пропуски есть в 7 колонках: 18_group, is_mi, is_first_time, 17_group, blended, is_ml_student.\n"
      ]
    },
    {
      "cell_type": "markdown",
      "metadata": {
        "id": "rvBavw5__kZK",
        "colab_type": "text"
      },
      "source": [
        "Заполните пропуски пустой строкой для строковых колонок и нулём для числовых."
      ]
    },
    {
      "cell_type": "code",
      "metadata": {
        "id": "cvqpWn2k_kZK",
        "colab_type": "code",
        "colab": {}
      },
      "source": [
        "data[['18_group', 'is_mi', '17_group', 'is_ml_student']] = data[['18_group', 'is_mi', '17_group', 'is_ml_student']].fillna(value=0)\n",
        "data[['is_first_time', 'blended']] = data[['is_first_time', 'blended']].fillna(value=str())"
      ],
      "execution_count": 601,
      "outputs": []
    },
    {
      "cell_type": "markdown",
      "metadata": {
        "id": "EBDaV_XoHVkt",
        "colab_type": "text"
      },
      "source": [
        "Проверим, что всё ок, и все пустые ячейки действительно заполнились"
      ]
    },
    {
      "cell_type": "code",
      "metadata": {
        "id": "XH57lIbKHUzH",
        "colab_type": "code",
        "colab": {
          "base_uri": "https://localhost:8080/",
          "height": 312
        },
        "outputId": "14f645eb-6aa9-4e1e-cb0d-a17ffc94089b"
      },
      "source": [
        "data.isnull().sum()"
      ],
      "execution_count": 602,
      "outputs": [
        {
          "output_type": "execute_result",
          "data": {
            "text/plain": [
              "timestamp        0\n",
              "id               0\n",
              "rating           0\n",
              "18_group         0\n",
              "is_mi            0\n",
              "fall_1           0\n",
              "fall_2           0\n",
              "fall_3           0\n",
              "spring_1         0\n",
              "spring_2         0\n",
              "spring_3         0\n",
              "is_first_time    0\n",
              "percentile       0\n",
              "17_group         0\n",
              "blended          0\n",
              "is_ml_student    0\n",
              "dtype: int64"
            ]
          },
          "metadata": {
            "tags": []
          },
          "execution_count": 602
        }
      ]
    },
    {
      "cell_type": "markdown",
      "metadata": {
        "id": "xNRiGDo5Hg87",
        "colab_type": "text"
      },
      "source": [
        "Вау и правда всё ок"
      ]
    },
    {
      "cell_type": "markdown",
      "metadata": {
        "id": "G-X1xV6O_kZO",
        "colab_type": "text"
      },
      "source": [
        "#### 4. [0.5 балла] Посмотрите повнимательнее на колонку 'is_first_time'. \n",
        "\n",
        "1. Есть ли в ней ответы \"Нет\"? Сколько их?\n",
        "\n",
        "2. Если вы найдете повторные обращения студентов, оставьте только самую позднюю версию. "
      ]
    },
    {
      "cell_type": "markdown",
      "metadata": {
        "id": "KCcv4gDJHwko",
        "colab_type": "text"
      },
      "source": [
        "Пункт 1:"
      ]
    },
    {
      "cell_type": "code",
      "metadata": {
        "id": "nDomXpT0_kZP",
        "colab_type": "code",
        "colab": {
          "base_uri": "https://localhost:8080/",
          "height": 35
        },
        "outputId": "13d93aff-9abe-407c-9035-0d27839049c2"
      },
      "source": [
        "q_no = data[data['is_first_time'] == 'Нет'].shape[0]\n",
        "print('Количество ответов \"нет\" в колонке \"is_first_time\" =', q_no)"
      ],
      "execution_count": 603,
      "outputs": [
        {
          "output_type": "stream",
          "text": [
            "Количество ответов \"нет\" в колонке \"is_first_time\" = 51\n"
          ],
          "name": "stdout"
        }
      ]
    },
    {
      "cell_type": "markdown",
      "metadata": {
        "id": "4ppXRBLfJ7jO",
        "colab_type": "text"
      },
      "source": [
        "Пункт 2:"
      ]
    },
    {
      "cell_type": "markdown",
      "metadata": {
        "id": "OKTxHL5bDbKo",
        "colab_type": "text"
      },
      "source": [
        "Для того, чтобы оставить только последнее обращение каждого студента, отсортирую данные по времени. А затем удалю дупликаты и посорчу обратно по индексам и сделаю их нормальными, чтобы было чуть более красиво.\n",
        "\n"
      ]
    },
    {
      "cell_type": "code",
      "metadata": {
        "id": "UOoioaOpHqPr",
        "colab_type": "code",
        "colab": {}
      },
      "source": [
        "data = data.sort_values(by='timestamp').drop_duplicates(subset=['id'], keep='last').sort_index().reset_index()"
      ],
      "execution_count": 604,
      "outputs": []
    },
    {
      "cell_type": "markdown",
      "metadata": {
        "id": "HAerg83QrC0n",
        "colab_type": "text"
      },
      "source": [
        "Убедимся, что от каждого студент осталось только одной обращение."
      ]
    },
    {
      "cell_type": "code",
      "metadata": {
        "id": "86VvX7wxrMJ4",
        "colab_type": "code",
        "colab": {
          "base_uri": "https://localhost:8080/",
          "height": 35
        },
        "outputId": "145b2b9a-996d-4fbf-d7cb-5287484c8370"
      },
      "source": [
        "print('Всё супер! с:') if data['id'].nunique() == data.shape[0] else print('Что-то пошло не так :с')"
      ],
      "execution_count": 605,
      "outputs": [
        {
          "output_type": "stream",
          "text": [
            "Всё супер! с:\n"
          ],
          "name": "stdout"
        }
      ]
    },
    {
      "cell_type": "markdown",
      "metadata": {
        "id": "ODZ4wH6K_kZU",
        "colab_type": "text"
      },
      "source": [
        "#### 5. [0.5 балла] Какие  blended-курсы для четверокурсников существуют? На какой blended-курс записалось наибольшее количество студентов? На каком из курсов собрались студенты с самым высоким средним рейтингом? "
      ]
    },
    {
      "cell_type": "code",
      "metadata": {
        "id": "VA5xeBKl_kZV",
        "colab_type": "code",
        "colab": {
          "base_uri": "https://localhost:8080/",
          "height": 104
        },
        "outputId": "9376d283-88f3-4f28-f510-0bdd521c0628"
      },
      "source": [
        "print('Существуют следующие blended-курсы для четверокурсников:', '\\n')\n",
        "pd.unique(data[data['17_group'] != 0]['blended']).tolist()"
      ],
      "execution_count": 606,
      "outputs": [
        {
          "output_type": "stream",
          "text": [
            "Существуют следующие blended-курсы для четверокурсников: \n",
            "\n"
          ],
          "name": "stdout"
        },
        {
          "output_type": "execute_result",
          "data": {
            "text/plain": [
              "['DevOps',\n",
              " 'Введение в дифференциальную геометрию',\n",
              " 'Соревновательный анализ данных']"
            ]
          },
          "metadata": {
            "tags": []
          },
          "execution_count": 606
        }
      ]
    },
    {
      "cell_type": "markdown",
      "metadata": {
        "id": "MnzIprXTLWvU",
        "colab_type": "text"
      },
      "source": [
        "Как мы можем заметить, существует всего 3 blended-курса для четверокурсников. Теперь рассмотрим количество студентов, записавшихся на каждый из них."
      ]
    },
    {
      "cell_type": "code",
      "metadata": {
        "id": "Px2gcJdJLsIh",
        "colab_type": "code",
        "colab": {
          "base_uri": "https://localhost:8080/",
          "height": 121
        },
        "outputId": "8640241b-79e8-440d-abd0-2f456e8f4c04"
      },
      "source": [
        "print('Распределение количества четверокурсников по blended-курсам получилось следующим:', '\\n')\n",
        "data[data['17_group'] != 0]['blended'].value_counts()"
      ],
      "execution_count": 607,
      "outputs": [
        {
          "output_type": "stream",
          "text": [
            "Распределение количества четверокурсников по blended-курсам получилось следующим: \n",
            "\n"
          ],
          "name": "stdout"
        },
        {
          "output_type": "execute_result",
          "data": {
            "text/plain": [
              "DevOps                                   87\n",
              "Соревновательный анализ данных           32\n",
              "Введение в дифференциальную геометрию    15\n",
              "Name: blended, dtype: int64"
            ]
          },
          "metadata": {
            "tags": []
          },
          "execution_count": 607
        }
      ]
    },
    {
      "cell_type": "markdown",
      "metadata": {
        "id": "n1x8qZ4HOROW",
        "colab_type": "text"
      },
      "source": [
        "В первой столбце выведенной таблицы указаны blended-курсы, а во второй - количество человек, записавшихся на них. Видим, что больше всего заявок было подано на курс DevOps. $$$$\n",
        "Теперь рассмотрим средний рейтинг студентов по курсам."
      ]
    },
    {
      "cell_type": "code",
      "metadata": {
        "id": "FcDoMLVwO3A2",
        "colab_type": "code",
        "colab": {
          "base_uri": "https://localhost:8080/",
          "height": 139
        },
        "outputId": "a7deaf7e-be57-40d1-e549-39f01f335dee"
      },
      "source": [
        "print('Средний рейтинг четверокурсников по blended-курсам:', '\\n')\n",
        "data[data['17_group'] != 0].groupby('blended').mean()['rating']"
      ],
      "execution_count": 608,
      "outputs": [
        {
          "output_type": "stream",
          "text": [
            "Средний рейтинг четверокурсников по blended-курсам: \n",
            "\n"
          ],
          "name": "stdout"
        },
        {
          "output_type": "execute_result",
          "data": {
            "text/plain": [
              "blended\n",
              "DevOps                                   1154.172414\n",
              "Введение в дифференциальную геометрию    1210.733333\n",
              "Соревновательный анализ данных           1144.218750\n",
              "Name: rating, dtype: float64"
            ]
          },
          "metadata": {
            "tags": []
          },
          "execution_count": 608
        }
      ]
    },
    {
      "cell_type": "markdown",
      "metadata": {
        "id": "N3oRuIvZO3Y7",
        "colab_type": "text"
      },
      "source": [
        "В первом столбце выведенной таблицы находятся названия blended-курсов, а во втором средний рейтинг студентов на каждом из курсов. Таким образом можно сделать вывод, что студенты с самым высоким средним рейтингом собрались на курсе \"Введение в дифференциальную геометрию\"."
      ]
    },
    {
      "cell_type": "markdown",
      "metadata": {
        "id": "vUvFpU7i_kZZ",
        "colab_type": "text"
      },
      "source": [
        "#### 6. [1 балл] Выясните, есть ли в данных студенты с абсолютно одинаковыми предпочтениями по всем курсам (не забудьте учесть blended-курсы для четверокурсников). Сколько таких наборов, которые взяли несколько студентов? Выведите их все вместе с количеством выбравших их студентов."
      ]
    },
    {
      "cell_type": "markdown",
      "metadata": {
        "id": "rfcGyXFQJyX8",
        "colab_type": "text"
      },
      "source": [
        "Рассмотрим отдельно 3 и 4 курс.\n",
        "$$$$\n",
        "3 курс:"
      ]
    },
    {
      "cell_type": "code",
      "metadata": {
        "id": "xvj2ZLHZ_kZZ",
        "colab_type": "code",
        "colab": {
          "base_uri": "https://localhost:8080/",
          "height": 1000
        },
        "outputId": "80ccb2c8-4924-4ef2-b2e8-16d2949a1ec6"
      },
      "source": [
        "data_18 = data[data['18_group'] != 0][['fall_1', 'fall_2', 'fall_3', 'spring_1', 'spring_2', 'spring_3']]\n",
        "dup_18 = data_18[data_18.duplicated(subset=['fall_1', 'fall_2', 'fall_3', 'spring_1', 'spring_2', 'spring_3'], keep=False)]\n",
        "dup_18.sort_values(['fall_1', 'fall_2', 'fall_3', 'spring_1', 'spring_2', 'spring_3'], ascending=[True, True, True, True, True, True])\n"
      ],
      "execution_count": 609,
      "outputs": [
        {
          "output_type": "execute_result",
          "data": {
            "text/html": [
              "<div>\n",
              "<style scoped>\n",
              "    .dataframe tbody tr th:only-of-type {\n",
              "        vertical-align: middle;\n",
              "    }\n",
              "\n",
              "    .dataframe tbody tr th {\n",
              "        vertical-align: top;\n",
              "    }\n",
              "\n",
              "    .dataframe thead th {\n",
              "        text-align: right;\n",
              "    }\n",
              "</style>\n",
              "<table border=\"1\" class=\"dataframe\">\n",
              "  <thead>\n",
              "    <tr style=\"text-align: right;\">\n",
              "      <th></th>\n",
              "      <th>fall_1</th>\n",
              "      <th>fall_2</th>\n",
              "      <th>fall_3</th>\n",
              "      <th>spring_1</th>\n",
              "      <th>spring_2</th>\n",
              "      <th>spring_3</th>\n",
              "    </tr>\n",
              "  </thead>\n",
              "  <tbody>\n",
              "    <tr>\n",
              "      <th>78</th>\n",
              "      <td>Безопасность компьютерных систем</td>\n",
              "      <td>Statistical Learning Theory</td>\n",
              "      <td>Матричные вычисления</td>\n",
              "      <td>Дискретная оптимизация</td>\n",
              "      <td>Промышленное программирование на языке Java</td>\n",
              "      <td>Дополнительные главы прикладной статистики</td>\n",
              "    </tr>\n",
              "    <tr>\n",
              "      <th>82</th>\n",
              "      <td>Безопасность компьютерных систем</td>\n",
              "      <td>Statistical Learning Theory</td>\n",
              "      <td>Матричные вычисления</td>\n",
              "      <td>Дискретная оптимизация</td>\n",
              "      <td>Промышленное программирование на языке Java</td>\n",
              "      <td>Дополнительные главы прикладной статистики</td>\n",
              "    </tr>\n",
              "    <tr>\n",
              "      <th>86</th>\n",
              "      <td>Безопасность компьютерных систем</td>\n",
              "      <td>Statistical Learning Theory</td>\n",
              "      <td>Матричные вычисления</td>\n",
              "      <td>Дискретная оптимизация</td>\n",
              "      <td>Промышленное программирование на языке Java</td>\n",
              "      <td>Дополнительные главы прикладной статистики</td>\n",
              "    </tr>\n",
              "    <tr>\n",
              "      <th>16</th>\n",
              "      <td>Безопасность компьютерных систем</td>\n",
              "      <td>Высокопроизводительные вычисления</td>\n",
              "      <td>Язык SQL</td>\n",
              "      <td>Компьютерные сети</td>\n",
              "      <td>Промышленное программирование на языке Java</td>\n",
              "      <td>Дискретная оптимизация</td>\n",
              "    </tr>\n",
              "    <tr>\n",
              "      <th>38</th>\n",
              "      <td>Безопасность компьютерных систем</td>\n",
              "      <td>Высокопроизводительные вычисления</td>\n",
              "      <td>Язык SQL</td>\n",
              "      <td>Компьютерные сети</td>\n",
              "      <td>Промышленное программирование на языке Java</td>\n",
              "      <td>Дискретная оптимизация</td>\n",
              "    </tr>\n",
              "    <tr>\n",
              "      <th>70</th>\n",
              "      <td>Безопасность компьютерных систем</td>\n",
              "      <td>Высокопроизводительные вычисления</td>\n",
              "      <td>Язык SQL</td>\n",
              "      <td>Компьютерные сети</td>\n",
              "      <td>Промышленное программирование на языке Java</td>\n",
              "      <td>Дискретная оптимизация</td>\n",
              "    </tr>\n",
              "    <tr>\n",
              "      <th>62</th>\n",
              "      <td>Безопасность компьютерных систем</td>\n",
              "      <td>Высокопроизводительные вычисления</td>\n",
              "      <td>Язык SQL</td>\n",
              "      <td>Промышленное программирование на языке Java</td>\n",
              "      <td>Компьютерные сети</td>\n",
              "      <td>Системы баз данных</td>\n",
              "    </tr>\n",
              "    <tr>\n",
              "      <th>164</th>\n",
              "      <td>Безопасность компьютерных систем</td>\n",
              "      <td>Высокопроизводительные вычисления</td>\n",
              "      <td>Язык SQL</td>\n",
              "      <td>Промышленное программирование на языке Java</td>\n",
              "      <td>Компьютерные сети</td>\n",
              "      <td>Системы баз данных</td>\n",
              "    </tr>\n",
              "    <tr>\n",
              "      <th>108</th>\n",
              "      <td>Безопасность компьютерных систем</td>\n",
              "      <td>Матричные вычисления</td>\n",
              "      <td>Моделирование временных рядов</td>\n",
              "      <td>Промышленное программирование на языке Java</td>\n",
              "      <td>Компьютерные сети</td>\n",
              "      <td>Дискретная оптимизация</td>\n",
              "    </tr>\n",
              "    <tr>\n",
              "      <th>170</th>\n",
              "      <td>Безопасность компьютерных систем</td>\n",
              "      <td>Матричные вычисления</td>\n",
              "      <td>Моделирование временных рядов</td>\n",
              "      <td>Промышленное программирование на языке Java</td>\n",
              "      <td>Компьютерные сети</td>\n",
              "      <td>Дискретная оптимизация</td>\n",
              "    </tr>\n",
              "    <tr>\n",
              "      <th>115</th>\n",
              "      <td>Безопасность компьютерных систем</td>\n",
              "      <td>Сбор и обработка данных с помощью краудсорсинга</td>\n",
              "      <td>Матричные вычисления</td>\n",
              "      <td>Компьютерные сети</td>\n",
              "      <td>Промышленное программирование на языке Java</td>\n",
              "      <td>Анализ данных в бизнесе</td>\n",
              "    </tr>\n",
              "    <tr>\n",
              "      <th>128</th>\n",
              "      <td>Безопасность компьютерных систем</td>\n",
              "      <td>Сбор и обработка данных с помощью краудсорсинга</td>\n",
              "      <td>Матричные вычисления</td>\n",
              "      <td>Компьютерные сети</td>\n",
              "      <td>Промышленное программирование на языке Java</td>\n",
              "      <td>Анализ данных в бизнесе</td>\n",
              "    </tr>\n",
              "    <tr>\n",
              "      <th>28</th>\n",
              "      <td>Безопасность компьютерных систем</td>\n",
              "      <td>Теория баз данных</td>\n",
              "      <td>Язык SQL</td>\n",
              "      <td>Машинное обучение 2</td>\n",
              "      <td>Компьютерные сети</td>\n",
              "      <td>Промышленное программирование на языке Java</td>\n",
              "    </tr>\n",
              "    <tr>\n",
              "      <th>208</th>\n",
              "      <td>Безопасность компьютерных систем</td>\n",
              "      <td>Теория баз данных</td>\n",
              "      <td>Язык SQL</td>\n",
              "      <td>Машинное обучение 2</td>\n",
              "      <td>Компьютерные сети</td>\n",
              "      <td>Промышленное программирование на языке Java</td>\n",
              "    </tr>\n",
              "    <tr>\n",
              "      <th>65</th>\n",
              "      <td>Моделирование временных рядов</td>\n",
              "      <td>Сбор и обработка данных с помощью краудсорсинга</td>\n",
              "      <td>Безопасность компьютерных систем</td>\n",
              "      <td>Компьютерные сети</td>\n",
              "      <td>Дополнительные главы прикладной статистики</td>\n",
              "      <td>Системы баз данных</td>\n",
              "    </tr>\n",
              "    <tr>\n",
              "      <th>102</th>\n",
              "      <td>Моделирование временных рядов</td>\n",
              "      <td>Сбор и обработка данных с помощью краудсорсинга</td>\n",
              "      <td>Безопасность компьютерных систем</td>\n",
              "      <td>Компьютерные сети</td>\n",
              "      <td>Дополнительные главы прикладной статистики</td>\n",
              "      <td>Системы баз данных</td>\n",
              "    </tr>\n",
              "    <tr>\n",
              "      <th>105</th>\n",
              "      <td>Сбор и обработка данных с помощью краудсорсинга</td>\n",
              "      <td>Язык SQL</td>\n",
              "      <td>Теория баз данных</td>\n",
              "      <td>Промышленное программирование на языке Java</td>\n",
              "      <td>Машинное обучение 2</td>\n",
              "      <td>Компьютерные сети</td>\n",
              "    </tr>\n",
              "    <tr>\n",
              "      <th>107</th>\n",
              "      <td>Сбор и обработка данных с помощью краудсорсинга</td>\n",
              "      <td>Язык SQL</td>\n",
              "      <td>Теория баз данных</td>\n",
              "      <td>Промышленное программирование на языке Java</td>\n",
              "      <td>Машинное обучение 2</td>\n",
              "      <td>Компьютерные сети</td>\n",
              "    </tr>\n",
              "    <tr>\n",
              "      <th>174</th>\n",
              "      <td>Язык SQL</td>\n",
              "      <td>Высокопроизводительные вычисления</td>\n",
              "      <td>Теория баз данных</td>\n",
              "      <td>Компьютерные сети</td>\n",
              "      <td>Промышленное программирование на языке Java</td>\n",
              "      <td>Дискретная оптимизация</td>\n",
              "    </tr>\n",
              "    <tr>\n",
              "      <th>177</th>\n",
              "      <td>Язык SQL</td>\n",
              "      <td>Высокопроизводительные вычисления</td>\n",
              "      <td>Теория баз данных</td>\n",
              "      <td>Компьютерные сети</td>\n",
              "      <td>Промышленное программирование на языке Java</td>\n",
              "      <td>Дискретная оптимизация</td>\n",
              "    </tr>\n",
              "  </tbody>\n",
              "</table>\n",
              "</div>"
            ],
            "text/plain": [
              "                                              fall_1  ...                                     spring_3\n",
              "78                  Безопасность компьютерных систем  ...   Дополнительные главы прикладной статистики\n",
              "82                  Безопасность компьютерных систем  ...   Дополнительные главы прикладной статистики\n",
              "86                  Безопасность компьютерных систем  ...   Дополнительные главы прикладной статистики\n",
              "16                  Безопасность компьютерных систем  ...                       Дискретная оптимизация\n",
              "38                  Безопасность компьютерных систем  ...                       Дискретная оптимизация\n",
              "70                  Безопасность компьютерных систем  ...                       Дискретная оптимизация\n",
              "62                  Безопасность компьютерных систем  ...                           Системы баз данных\n",
              "164                 Безопасность компьютерных систем  ...                           Системы баз данных\n",
              "108                 Безопасность компьютерных систем  ...                       Дискретная оптимизация\n",
              "170                 Безопасность компьютерных систем  ...                       Дискретная оптимизация\n",
              "115                 Безопасность компьютерных систем  ...                      Анализ данных в бизнесе\n",
              "128                 Безопасность компьютерных систем  ...                      Анализ данных в бизнесе\n",
              "28                  Безопасность компьютерных систем  ...  Промышленное программирование на языке Java\n",
              "208                 Безопасность компьютерных систем  ...  Промышленное программирование на языке Java\n",
              "65                     Моделирование временных рядов  ...                           Системы баз данных\n",
              "102                    Моделирование временных рядов  ...                           Системы баз данных\n",
              "105  Сбор и обработка данных с помощью краудсорсинга  ...                            Компьютерные сети\n",
              "107  Сбор и обработка данных с помощью краудсорсинга  ...                            Компьютерные сети\n",
              "174                                         Язык SQL  ...                       Дискретная оптимизация\n",
              "177                                         Язык SQL  ...                       Дискретная оптимизация\n",
              "\n",
              "[20 rows x 6 columns]"
            ]
          },
          "metadata": {
            "tags": []
          },
          "execution_count": 609
        }
      ]
    },
    {
      "cell_type": "markdown",
      "metadata": {
        "id": "qqyiPbwF8cZe",
        "colab_type": "text"
      },
      "source": [
        "Для того, чтобы понять, есть ли такие студенты, я создала таблицу, в которой оставила только дупликаты по всем осенним и весенним курсам. Как мы можем заметить, студенты с абсолютно одинаковыми предпочтениями по всем курсам среди третьекурсников есть. Теперь поймем, сколько таких наборов. "
      ]
    },
    {
      "cell_type": "code",
      "metadata": {
        "id": "D4etwo-u9B0b",
        "colab_type": "code",
        "colab": {
          "base_uri": "https://localhost:8080/",
          "height": 741
        },
        "outputId": "48b2ad0f-b642-4bd9-cb36-74c18ce66fb6"
      },
      "source": [
        "dup_18['count'] = 0  #подготовим отдельный столбец для записи\n",
        "                     #количества студентов, взявших конкретный набор курсов\n",
        "dup_18.groupby(['fall_1', 'fall_2', 'fall_3', 'spring_1', 'spring_2', 'spring_3'], as_index=False).count()\n"
      ],
      "execution_count": 610,
      "outputs": [
        {
          "output_type": "stream",
          "text": [
            "/usr/local/lib/python3.6/dist-packages/ipykernel_launcher.py:1: SettingWithCopyWarning: \n",
            "A value is trying to be set on a copy of a slice from a DataFrame.\n",
            "Try using .loc[row_indexer,col_indexer] = value instead\n",
            "\n",
            "See the caveats in the documentation: https://pandas.pydata.org/pandas-docs/stable/user_guide/indexing.html#returning-a-view-versus-a-copy\n",
            "  \"\"\"Entry point for launching an IPython kernel.\n"
          ],
          "name": "stderr"
        },
        {
          "output_type": "execute_result",
          "data": {
            "text/html": [
              "<div>\n",
              "<style scoped>\n",
              "    .dataframe tbody tr th:only-of-type {\n",
              "        vertical-align: middle;\n",
              "    }\n",
              "\n",
              "    .dataframe tbody tr th {\n",
              "        vertical-align: top;\n",
              "    }\n",
              "\n",
              "    .dataframe thead th {\n",
              "        text-align: right;\n",
              "    }\n",
              "</style>\n",
              "<table border=\"1\" class=\"dataframe\">\n",
              "  <thead>\n",
              "    <tr style=\"text-align: right;\">\n",
              "      <th></th>\n",
              "      <th>fall_1</th>\n",
              "      <th>fall_2</th>\n",
              "      <th>fall_3</th>\n",
              "      <th>spring_1</th>\n",
              "      <th>spring_2</th>\n",
              "      <th>spring_3</th>\n",
              "      <th>count</th>\n",
              "    </tr>\n",
              "  </thead>\n",
              "  <tbody>\n",
              "    <tr>\n",
              "      <th>0</th>\n",
              "      <td>Безопасность компьютерных систем</td>\n",
              "      <td>Statistical Learning Theory</td>\n",
              "      <td>Матричные вычисления</td>\n",
              "      <td>Дискретная оптимизация</td>\n",
              "      <td>Промышленное программирование на языке Java</td>\n",
              "      <td>Дополнительные главы прикладной статистики</td>\n",
              "      <td>3</td>\n",
              "    </tr>\n",
              "    <tr>\n",
              "      <th>1</th>\n",
              "      <td>Безопасность компьютерных систем</td>\n",
              "      <td>Высокопроизводительные вычисления</td>\n",
              "      <td>Язык SQL</td>\n",
              "      <td>Компьютерные сети</td>\n",
              "      <td>Промышленное программирование на языке Java</td>\n",
              "      <td>Дискретная оптимизация</td>\n",
              "      <td>3</td>\n",
              "    </tr>\n",
              "    <tr>\n",
              "      <th>2</th>\n",
              "      <td>Безопасность компьютерных систем</td>\n",
              "      <td>Высокопроизводительные вычисления</td>\n",
              "      <td>Язык SQL</td>\n",
              "      <td>Промышленное программирование на языке Java</td>\n",
              "      <td>Компьютерные сети</td>\n",
              "      <td>Системы баз данных</td>\n",
              "      <td>2</td>\n",
              "    </tr>\n",
              "    <tr>\n",
              "      <th>3</th>\n",
              "      <td>Безопасность компьютерных систем</td>\n",
              "      <td>Матричные вычисления</td>\n",
              "      <td>Моделирование временных рядов</td>\n",
              "      <td>Промышленное программирование на языке Java</td>\n",
              "      <td>Компьютерные сети</td>\n",
              "      <td>Дискретная оптимизация</td>\n",
              "      <td>2</td>\n",
              "    </tr>\n",
              "    <tr>\n",
              "      <th>4</th>\n",
              "      <td>Безопасность компьютерных систем</td>\n",
              "      <td>Сбор и обработка данных с помощью краудсорсинга</td>\n",
              "      <td>Матричные вычисления</td>\n",
              "      <td>Компьютерные сети</td>\n",
              "      <td>Промышленное программирование на языке Java</td>\n",
              "      <td>Анализ данных в бизнесе</td>\n",
              "      <td>2</td>\n",
              "    </tr>\n",
              "    <tr>\n",
              "      <th>5</th>\n",
              "      <td>Безопасность компьютерных систем</td>\n",
              "      <td>Теория баз данных</td>\n",
              "      <td>Язык SQL</td>\n",
              "      <td>Машинное обучение 2</td>\n",
              "      <td>Компьютерные сети</td>\n",
              "      <td>Промышленное программирование на языке Java</td>\n",
              "      <td>2</td>\n",
              "    </tr>\n",
              "    <tr>\n",
              "      <th>6</th>\n",
              "      <td>Моделирование временных рядов</td>\n",
              "      <td>Сбор и обработка данных с помощью краудсорсинга</td>\n",
              "      <td>Безопасность компьютерных систем</td>\n",
              "      <td>Компьютерные сети</td>\n",
              "      <td>Дополнительные главы прикладной статистики</td>\n",
              "      <td>Системы баз данных</td>\n",
              "      <td>2</td>\n",
              "    </tr>\n",
              "    <tr>\n",
              "      <th>7</th>\n",
              "      <td>Сбор и обработка данных с помощью краудсорсинга</td>\n",
              "      <td>Язык SQL</td>\n",
              "      <td>Теория баз данных</td>\n",
              "      <td>Промышленное программирование на языке Java</td>\n",
              "      <td>Машинное обучение 2</td>\n",
              "      <td>Компьютерные сети</td>\n",
              "      <td>2</td>\n",
              "    </tr>\n",
              "    <tr>\n",
              "      <th>8</th>\n",
              "      <td>Язык SQL</td>\n",
              "      <td>Высокопроизводительные вычисления</td>\n",
              "      <td>Теория баз данных</td>\n",
              "      <td>Компьютерные сети</td>\n",
              "      <td>Промышленное программирование на языке Java</td>\n",
              "      <td>Дискретная оптимизация</td>\n",
              "      <td>2</td>\n",
              "    </tr>\n",
              "  </tbody>\n",
              "</table>\n",
              "</div>"
            ],
            "text/plain": [
              "                                            fall_1  ... count\n",
              "0                 Безопасность компьютерных систем  ...     3\n",
              "1                 Безопасность компьютерных систем  ...     3\n",
              "2                 Безопасность компьютерных систем  ...     2\n",
              "3                 Безопасность компьютерных систем  ...     2\n",
              "4                 Безопасность компьютерных систем  ...     2\n",
              "5                 Безопасность компьютерных систем  ...     2\n",
              "6                    Моделирование временных рядов  ...     2\n",
              "7  Сбор и обработка данных с помощью краудсорсинга  ...     2\n",
              "8                                         Язык SQL  ...     2\n",
              "\n",
              "[9 rows x 7 columns]"
            ]
          },
          "metadata": {
            "tags": []
          },
          "execution_count": 610
        }
      ]
    },
    {
      "cell_type": "markdown",
      "metadata": {
        "id": "YI5kUS7pAZts",
        "colab_type": "text"
      },
      "source": [
        "По данной табличке мы видим, что есть всего 9 наборов курсов, которые взяли несколько студентов. Конкретное количество студентов взявших определенный набор курсов можно увидеть в столбце \"count\"."
      ]
    },
    {
      "cell_type": "markdown",
      "metadata": {
        "id": "PcDnfX5h9dc5",
        "colab_type": "text"
      },
      "source": [
        "Сделаем все то же самое и для 4 курса."
      ]
    },
    {
      "cell_type": "markdown",
      "metadata": {
        "id": "ZXqMjQqZJ8Vk",
        "colab_type": "text"
      },
      "source": [
        "4 курс:"
      ]
    },
    {
      "cell_type": "code",
      "metadata": {
        "id": "3gq1iPY_ZM2N",
        "colab_type": "code",
        "colab": {
          "base_uri": "https://localhost:8080/",
          "height": 833
        },
        "outputId": "ab2cbb3e-0e84-496e-a676-ad918f18e6f4"
      },
      "source": [
        "data_17 = data[data['17_group'] != 0][['fall_1', 'fall_2', 'fall_3', 'spring_1', 'spring_2', 'spring_3', 'blended']]\n",
        "dup_17 = data_17[data_17.duplicated(subset=['fall_1', 'fall_2', 'fall_3', 'spring_1', 'spring_2', 'spring_3', 'blended'], keep=False)]\n",
        "dup_17.sort_values(['fall_1', 'fall_2', 'fall_3', 'spring_1', 'spring_2', 'spring_3', 'blended'], ascending=[True, True, True, True, True, True, True])"
      ],
      "execution_count": 611,
      "outputs": [
        {
          "output_type": "execute_result",
          "data": {
            "text/html": [
              "<div>\n",
              "<style scoped>\n",
              "    .dataframe tbody tr th:only-of-type {\n",
              "        vertical-align: middle;\n",
              "    }\n",
              "\n",
              "    .dataframe tbody tr th {\n",
              "        vertical-align: top;\n",
              "    }\n",
              "\n",
              "    .dataframe thead th {\n",
              "        text-align: right;\n",
              "    }\n",
              "</style>\n",
              "<table border=\"1\" class=\"dataframe\">\n",
              "  <thead>\n",
              "    <tr style=\"text-align: right;\">\n",
              "      <th></th>\n",
              "      <th>fall_1</th>\n",
              "      <th>fall_2</th>\n",
              "      <th>fall_3</th>\n",
              "      <th>spring_1</th>\n",
              "      <th>spring_2</th>\n",
              "      <th>spring_3</th>\n",
              "      <th>blended</th>\n",
              "    </tr>\n",
              "  </thead>\n",
              "  <tbody>\n",
              "    <tr>\n",
              "      <th>289</th>\n",
              "      <td>Statistical Learning Theory</td>\n",
              "      <td>Анализ неструктурированных данных</td>\n",
              "      <td>Сбор и обработка данных с помощью краудсорсинга</td>\n",
              "      <td>Обучение с подкреплением</td>\n",
              "      <td>Конфликты и кооперация</td>\n",
              "      <td>Компьютерное зрение</td>\n",
              "      <td>DevOps</td>\n",
              "    </tr>\n",
              "    <tr>\n",
              "      <th>342</th>\n",
              "      <td>Statistical Learning Theory</td>\n",
              "      <td>Анализ неструктурированных данных</td>\n",
              "      <td>Сбор и обработка данных с помощью краудсорсинга</td>\n",
              "      <td>Обучение с подкреплением</td>\n",
              "      <td>Конфликты и кооперация</td>\n",
              "      <td>Компьютерное зрение</td>\n",
              "      <td>DevOps</td>\n",
              "    </tr>\n",
              "    <tr>\n",
              "      <th>255</th>\n",
              "      <td>Байесовские методы машинного обучения</td>\n",
              "      <td>Анализ неструктурированных данных</td>\n",
              "      <td>Глубинное обучение в обработке звука</td>\n",
              "      <td>Обучение с подкреплением</td>\n",
              "      <td>Генеративные модели в машинном обучении</td>\n",
              "      <td>Компьютерное зрение</td>\n",
              "      <td>DevOps</td>\n",
              "    </tr>\n",
              "    <tr>\n",
              "      <th>267</th>\n",
              "      <td>Байесовские методы машинного обучения</td>\n",
              "      <td>Анализ неструктурированных данных</td>\n",
              "      <td>Глубинное обучение в обработке звука</td>\n",
              "      <td>Обучение с подкреплением</td>\n",
              "      <td>Генеративные модели в машинном обучении</td>\n",
              "      <td>Компьютерное зрение</td>\n",
              "      <td>DevOps</td>\n",
              "    </tr>\n",
              "    <tr>\n",
              "      <th>245</th>\n",
              "      <td>Байесовские методы машинного обучения</td>\n",
              "      <td>Анализ неструктурированных данных</td>\n",
              "      <td>Сбор и обработка данных с помощью краудсорсинга</td>\n",
              "      <td>Обучение с подкреплением</td>\n",
              "      <td>Компьютерное зрение</td>\n",
              "      <td>Генеративные модели в машинном обучении</td>\n",
              "      <td>DevOps</td>\n",
              "    </tr>\n",
              "    <tr>\n",
              "      <th>308</th>\n",
              "      <td>Байесовские методы машинного обучения</td>\n",
              "      <td>Анализ неструктурированных данных</td>\n",
              "      <td>Сбор и обработка данных с помощью краудсорсинга</td>\n",
              "      <td>Обучение с подкреплением</td>\n",
              "      <td>Компьютерное зрение</td>\n",
              "      <td>Генеративные модели в машинном обучении</td>\n",
              "      <td>DevOps</td>\n",
              "    </tr>\n",
              "    <tr>\n",
              "      <th>217</th>\n",
              "      <td>Безопасность компьютерных систем</td>\n",
              "      <td>Высокопроизводительные вычисления</td>\n",
              "      <td>Анализ неструктурированных данных</td>\n",
              "      <td>Проектирование и разработка высоконагруженных ...</td>\n",
              "      <td>Методы сжатия и передачи медиаданных</td>\n",
              "      <td>Конфликты и кооперация</td>\n",
              "      <td>DevOps</td>\n",
              "    </tr>\n",
              "    <tr>\n",
              "      <th>218</th>\n",
              "      <td>Безопасность компьютерных систем</td>\n",
              "      <td>Высокопроизводительные вычисления</td>\n",
              "      <td>Анализ неструктурированных данных</td>\n",
              "      <td>Проектирование и разработка высоконагруженных ...</td>\n",
              "      <td>Методы сжатия и передачи медиаданных</td>\n",
              "      <td>Конфликты и кооперация</td>\n",
              "      <td>DevOps</td>\n",
              "    </tr>\n",
              "    <tr>\n",
              "      <th>219</th>\n",
              "      <td>Высокопроизводительные вычисления</td>\n",
              "      <td>Безопасность компьютерных систем</td>\n",
              "      <td>Сбор и обработка данных с помощью краудсорсинга</td>\n",
              "      <td>Проектирование и разработка высоконагруженных ...</td>\n",
              "      <td>Методы сжатия и передачи медиаданных</td>\n",
              "      <td>Компьютерное зрение</td>\n",
              "      <td>DevOps</td>\n",
              "    </tr>\n",
              "    <tr>\n",
              "      <th>280</th>\n",
              "      <td>Высокопроизводительные вычисления</td>\n",
              "      <td>Безопасность компьютерных систем</td>\n",
              "      <td>Сбор и обработка данных с помощью краудсорсинга</td>\n",
              "      <td>Проектирование и разработка высоконагруженных ...</td>\n",
              "      <td>Методы сжатия и передачи медиаданных</td>\n",
              "      <td>Компьютерное зрение</td>\n",
              "      <td>DevOps</td>\n",
              "    </tr>\n",
              "    <tr>\n",
              "      <th>262</th>\n",
              "      <td>Высокопроизводительные вычисления</td>\n",
              "      <td>Сбор и обработка данных с помощью краудсорсинга</td>\n",
              "      <td>Моделирование временных рядов</td>\n",
              "      <td>Проектирование и разработка высоконагруженных ...</td>\n",
              "      <td>Методы сжатия и передачи медиаданных</td>\n",
              "      <td>Методы сжатия и передачи медиаданных</td>\n",
              "      <td>DevOps</td>\n",
              "    </tr>\n",
              "    <tr>\n",
              "      <th>263</th>\n",
              "      <td>Высокопроизводительные вычисления</td>\n",
              "      <td>Сбор и обработка данных с помощью краудсорсинга</td>\n",
              "      <td>Моделирование временных рядов</td>\n",
              "      <td>Проектирование и разработка высоконагруженных ...</td>\n",
              "      <td>Методы сжатия и передачи медиаданных</td>\n",
              "      <td>Методы сжатия и передачи медиаданных</td>\n",
              "      <td>DevOps</td>\n",
              "    </tr>\n",
              "  </tbody>\n",
              "</table>\n",
              "</div>"
            ],
            "text/plain": [
              "                                    fall_1  ... blended\n",
              "289            Statistical Learning Theory  ...  DevOps\n",
              "342            Statistical Learning Theory  ...  DevOps\n",
              "255  Байесовские методы машинного обучения  ...  DevOps\n",
              "267  Байесовские методы машинного обучения  ...  DevOps\n",
              "245  Байесовские методы машинного обучения  ...  DevOps\n",
              "308  Байесовские методы машинного обучения  ...  DevOps\n",
              "217       Безопасность компьютерных систем  ...  DevOps\n",
              "218       Безопасность компьютерных систем  ...  DevOps\n",
              "219      Высокопроизводительные вычисления  ...  DevOps\n",
              "280      Высокопроизводительные вычисления  ...  DevOps\n",
              "262      Высокопроизводительные вычисления  ...  DevOps\n",
              "263      Высокопроизводительные вычисления  ...  DevOps\n",
              "\n",
              "[12 rows x 7 columns]"
            ]
          },
          "metadata": {
            "tags": []
          },
          "execution_count": 611
        }
      ]
    },
    {
      "cell_type": "code",
      "metadata": {
        "id": "aTLL-VRKBONr",
        "colab_type": "code",
        "colab": {
          "base_uri": "https://localhost:8080/",
          "height": 579
        },
        "outputId": "07accdd9-438b-42d0-9874-fc52522fb4ca"
      },
      "source": [
        "dup_17['count'] = 0\n",
        "\n",
        "dup_17.groupby(['fall_1', 'fall_2', 'fall_3', 'spring_1', 'spring_2', 'spring_3', 'blended'], as_index=False).count()"
      ],
      "execution_count": 612,
      "outputs": [
        {
          "output_type": "stream",
          "text": [
            "/usr/local/lib/python3.6/dist-packages/ipykernel_launcher.py:1: SettingWithCopyWarning: \n",
            "A value is trying to be set on a copy of a slice from a DataFrame.\n",
            "Try using .loc[row_indexer,col_indexer] = value instead\n",
            "\n",
            "See the caveats in the documentation: https://pandas.pydata.org/pandas-docs/stable/user_guide/indexing.html#returning-a-view-versus-a-copy\n",
            "  \"\"\"Entry point for launching an IPython kernel.\n"
          ],
          "name": "stderr"
        },
        {
          "output_type": "execute_result",
          "data": {
            "text/html": [
              "<div>\n",
              "<style scoped>\n",
              "    .dataframe tbody tr th:only-of-type {\n",
              "        vertical-align: middle;\n",
              "    }\n",
              "\n",
              "    .dataframe tbody tr th {\n",
              "        vertical-align: top;\n",
              "    }\n",
              "\n",
              "    .dataframe thead th {\n",
              "        text-align: right;\n",
              "    }\n",
              "</style>\n",
              "<table border=\"1\" class=\"dataframe\">\n",
              "  <thead>\n",
              "    <tr style=\"text-align: right;\">\n",
              "      <th></th>\n",
              "      <th>fall_1</th>\n",
              "      <th>fall_2</th>\n",
              "      <th>fall_3</th>\n",
              "      <th>spring_1</th>\n",
              "      <th>spring_2</th>\n",
              "      <th>spring_3</th>\n",
              "      <th>blended</th>\n",
              "      <th>count</th>\n",
              "    </tr>\n",
              "  </thead>\n",
              "  <tbody>\n",
              "    <tr>\n",
              "      <th>0</th>\n",
              "      <td>Statistical Learning Theory</td>\n",
              "      <td>Анализ неструктурированных данных</td>\n",
              "      <td>Сбор и обработка данных с помощью краудсорсинга</td>\n",
              "      <td>Обучение с подкреплением</td>\n",
              "      <td>Конфликты и кооперация</td>\n",
              "      <td>Компьютерное зрение</td>\n",
              "      <td>DevOps</td>\n",
              "      <td>2</td>\n",
              "    </tr>\n",
              "    <tr>\n",
              "      <th>1</th>\n",
              "      <td>Байесовские методы машинного обучения</td>\n",
              "      <td>Анализ неструктурированных данных</td>\n",
              "      <td>Глубинное обучение в обработке звука</td>\n",
              "      <td>Обучение с подкреплением</td>\n",
              "      <td>Генеративные модели в машинном обучении</td>\n",
              "      <td>Компьютерное зрение</td>\n",
              "      <td>DevOps</td>\n",
              "      <td>2</td>\n",
              "    </tr>\n",
              "    <tr>\n",
              "      <th>2</th>\n",
              "      <td>Байесовские методы машинного обучения</td>\n",
              "      <td>Анализ неструктурированных данных</td>\n",
              "      <td>Сбор и обработка данных с помощью краудсорсинга</td>\n",
              "      <td>Обучение с подкреплением</td>\n",
              "      <td>Компьютерное зрение</td>\n",
              "      <td>Генеративные модели в машинном обучении</td>\n",
              "      <td>DevOps</td>\n",
              "      <td>2</td>\n",
              "    </tr>\n",
              "    <tr>\n",
              "      <th>3</th>\n",
              "      <td>Безопасность компьютерных систем</td>\n",
              "      <td>Высокопроизводительные вычисления</td>\n",
              "      <td>Анализ неструктурированных данных</td>\n",
              "      <td>Проектирование и разработка высоконагруженных ...</td>\n",
              "      <td>Методы сжатия и передачи медиаданных</td>\n",
              "      <td>Конфликты и кооперация</td>\n",
              "      <td>DevOps</td>\n",
              "      <td>2</td>\n",
              "    </tr>\n",
              "    <tr>\n",
              "      <th>4</th>\n",
              "      <td>Высокопроизводительные вычисления</td>\n",
              "      <td>Безопасность компьютерных систем</td>\n",
              "      <td>Сбор и обработка данных с помощью краудсорсинга</td>\n",
              "      <td>Проектирование и разработка высоконагруженных ...</td>\n",
              "      <td>Методы сжатия и передачи медиаданных</td>\n",
              "      <td>Компьютерное зрение</td>\n",
              "      <td>DevOps</td>\n",
              "      <td>2</td>\n",
              "    </tr>\n",
              "    <tr>\n",
              "      <th>5</th>\n",
              "      <td>Высокопроизводительные вычисления</td>\n",
              "      <td>Сбор и обработка данных с помощью краудсорсинга</td>\n",
              "      <td>Моделирование временных рядов</td>\n",
              "      <td>Проектирование и разработка высоконагруженных ...</td>\n",
              "      <td>Методы сжатия и передачи медиаданных</td>\n",
              "      <td>Методы сжатия и передачи медиаданных</td>\n",
              "      <td>DevOps</td>\n",
              "      <td>2</td>\n",
              "    </tr>\n",
              "  </tbody>\n",
              "</table>\n",
              "</div>"
            ],
            "text/plain": [
              "                                  fall_1  ... count\n",
              "0            Statistical Learning Theory  ...     2\n",
              "1  Байесовские методы машинного обучения  ...     2\n",
              "2  Байесовские методы машинного обучения  ...     2\n",
              "3       Безопасность компьютерных систем  ...     2\n",
              "4      Высокопроизводительные вычисления  ...     2\n",
              "5      Высокопроизводительные вычисления  ...     2\n",
              "\n",
              "[6 rows x 8 columns]"
            ]
          },
          "metadata": {
            "tags": []
          },
          "execution_count": 612
        }
      ]
    },
    {
      "cell_type": "markdown",
      "metadata": {
        "id": "tSqlsD8FB21L",
        "colab_type": "text"
      },
      "source": [
        "Как мы видим, есть всего 6 наборов курсов, которые выбрали несколько четверокурсников. Количество студентов, выбравших конкретный набор также можно увидеть в столбце \"count\"."
      ]
    },
    {
      "cell_type": "markdown",
      "metadata": {
        "id": "_zotLYCu_kZd",
        "colab_type": "text"
      },
      "source": [
        "#### 7. [0.5 балла] Найдите курсы по выбору, на которые записывались как студенты 18-го года набора, так и студенты 17-го года."
      ]
    },
    {
      "cell_type": "code",
      "metadata": {
        "id": "CrC80B_ZuTTQ",
        "colab_type": "code",
        "colab": {
          "base_uri": "https://localhost:8080/",
          "height": 72
        },
        "outputId": "1bbb473e-cb74-46ed-e59f-48a2748ba12f"
      },
      "source": [
        "courses_17 = set(np.unique(data[data['17_group'] != 0][['fall_1', 'fall_2', 'fall_3', 'spring_1', 'spring_2', 'spring_3', 'blended']]))\n",
        "courses_18 = set(np.unique(data[data['18_group'] != 0][['fall_1', 'fall_2', 'fall_3', 'spring_1', 'spring_2', 'spring_3']]))\n",
        "\n",
        "#циклы использовать нельзя, так что вывод будет страшным... очень извиняюсь\n",
        "print('На следующие курсы по выбору записались как студенты 3, так и студенты 4 курса:','\\n', courses_17.intersection(courses_18))"
      ],
      "execution_count": 613,
      "outputs": [
        {
          "output_type": "stream",
          "text": [
            "На следующие курсы по выбору записались как студенты 3, так и студенты 4 курса: \n",
            " {'Высокопроизводительные вычисления', 'Численные методы', 'Моделирование временных рядов', 'Сбор и обработка данных с помощью краудсорсинга', 'Безопасность компьютерных систем', 'Принятие решений в условиях риска и неопределённости', 'Statistical Learning Theory'}\n"
          ],
          "name": "stdout"
        }
      ]
    },
    {
      "cell_type": "markdown",
      "metadata": {
        "id": "2B-6zP2p_kZg",
        "colab_type": "text"
      },
      "source": [
        "Методом исключения найдите курсы, которые предлагались только студентам 18-го года и только студентам 17-го года."
      ]
    },
    {
      "cell_type": "code",
      "metadata": {
        "id": "s2baXket_kZe",
        "colab_type": "code",
        "colab": {
          "base_uri": "https://localhost:8080/",
          "height": 107
        },
        "outputId": "8b1aed26-5f97-40a1-eaf8-48b69e7277e3"
      },
      "source": [
        "#ну и тут страшный вывод, да, да\n",
        "print('Только студентам 4 курса предлагались следующие курсы:', '\\n', courses_17 - courses_18)\n",
        "print('Только студентам 3 курса предлагались следующие курсы:', '\\n', courses_18 - courses_17)"
      ],
      "execution_count": 614,
      "outputs": [
        {
          "output_type": "stream",
          "text": [
            "Только студентам 4 курса предлагались следующие курсы: \n",
            " {'Глубинное обучение в обработке звука', 'Анализ неструктурированных данных', 'Методы сжатия и передачи медиаданных', 'Конфликты и кооперация', 'Символьные вычисления', 'Обучение с подкреплением', 'Байесовские методы машинного обучения', 'DevOps', 'Введение в дифференциальную геометрию', 'Компьютерное зрение', 'Проектирование и разработка высоконагруженных сервисов', 'Соревновательный анализ данных', 'Генеративные модели в машинном обучении'}\n",
            "Только студентам 3 курса предлагались следующие курсы: \n",
            " {'Теория баз данных', 'Матричные вычисления', 'Язык SQL', 'Системы баз данных', 'Дополнительные главы прикладной статистики', 'Машинное обучение 2', 'Компьютерные сети', 'Дискретная оптимизация', 'Промышленное программирование на языке Java', 'Анализ данных в бизнесе'}\n"
          ],
          "name": "stdout"
        }
      ]
    },
    {
      "cell_type": "markdown",
      "metadata": {
        "id": "Ogcq8KxO_kZk",
        "colab_type": "text"
      },
      "source": [
        "### Визуализации и matplotlib"
      ]
    },
    {
      "cell_type": "markdown",
      "metadata": {
        "id": "T2nPtF5b_kZk",
        "colab_type": "text"
      },
      "source": [
        "При работе с данными часто неудобно делать какие-то выводы, если смотреть на таблицу и числа в частности, поэтому важно уметь визуализировать данные. Здесь будут описаны ключевые правила оформления графиков для **всех** домашних заданий.\n",
        "\n",
        "У matplotlib, конечно же, есть [документация](https://matplotlib.org/users/index.html) с большим количеством [примеров](https://matplotlib.org/examples/), но для начала достаточно знать про несколько основных типов графиков:\n",
        "- plot — обычный поточечный график, которым можно изображать кривые или отдельные точки;\n",
        "- hist — гистограмма, показывающая распределение некоторой величины;\n",
        "- scatter — график, показывающий взаимосвязь двух величин;\n",
        "- bar — столбцовый график, показывающий взаимосвязь количественной величины от категориальной.\n",
        "\n",
        "В этом задании вы попробуете построить один из них. Не забывайте про базовые принципы построения приличных графиков:\n",
        "- оси должны быть подписаны, причём не слишком мелко;\n",
        "- у графика должно быть название;\n",
        "- если изображено несколько графиков, то необходима поясняющая легенда;\n",
        "- все линии на графиках должны быть чётко видны (нет похожих цветов или цветов, сливающихся с фоном);\n",
        "- если отображена величина, имеющая очевидный диапазон значений (например, проценты могут быть от 0 до 100), то желательно масштабировать ось на весь диапазон значений (исключением является случай, когда вам необходимо показать малое отличие, которое незаметно в таких масштабах);\n",
        "- сетка на графике помогает оценить значения в точках на глаз, это обычно полезно, поэтому лучше ее отрисовывать;\n",
        "- если распределение на гистограмме имеет тяжёлые хвосты, лучше использовать логарифмическую шкалу."
      ]
    },
    {
      "cell_type": "code",
      "metadata": {
        "id": "1WXf2_Ws_kZl",
        "colab_type": "code",
        "colab": {}
      },
      "source": [
        "%matplotlib inline\n",
        "import matplotlib.pyplot as plt\n",
        "import seaborn as sns"
      ],
      "execution_count": 615,
      "outputs": []
    },
    {
      "cell_type": "markdown",
      "metadata": {
        "id": "6LJbOGJa_kZn",
        "colab_type": "text"
      },
      "source": [
        "#### 8. [0.5 балла] Постройте график средних рейтингов по дням получения ответов (bar plot)."
      ]
    },
    {
      "cell_type": "markdown",
      "metadata": {
        "id": "yG9m8AN3dPhL",
        "colab_type": "text"
      },
      "source": [
        "(Не бейте меня за цикл, пожалуйста. Я могла тут сделать без него, но мне не нравится, как выглядит дата в формате xx.05.2019 :с\n",
        "А так все красивенько...)"
      ]
    },
    {
      "cell_type": "code",
      "metadata": {
        "id": "elDnRMNN_kZo",
        "colab_type": "code",
        "colab": {
          "base_uri": "https://localhost:8080/",
          "height": 468
        },
        "outputId": "9ee82974-96f4-4dbd-8b0a-3c0f4f87c983"
      },
      "source": [
        "day_raiting_av = data.groupby(data['timestamp'].dt.day).mean()['rating']\n",
        "day = [str(el) + ' мая' for el in np.sort(data['timestamp'].dt.day.unique())]\n",
        "fig, ax = plt.subplots(figsize=(14, 7))\n",
        "ax.bar(day, day_raiting_av, color='palevioletred')\n",
        "plt.title('График средних рейтингов студентов по дням получения ответов', fontsize=20);\n",
        "\n",
        "plt.xlabel('День получения ответов', color='steelblue', size=15)\n",
        "plt.ylabel('Средний рейтинг студентов', color='steelblue', size=15)\n",
        "\n",
        "ax.grid()\n",
        "plt.show()"
      ],
      "execution_count": 616,
      "outputs": [
        {
          "output_type": "display_data",
          "data": {
            "image/png": "[encoded data removed]",
            "text/plain": [
              "<Figure size 1008x504 with 1 Axes>"
            ]
          },
          "metadata": {
            "tags": [],
            "needs_background": "light"
          }
        }
      ]
    },
    {
      "cell_type": "markdown",
      "metadata": {
        "id": "1CKMbA22_kZr",
        "colab_type": "text"
      },
      "source": [
        "Сохраните график в формате pdf (так он останется векторизованным)."
      ]
    },
    {
      "cell_type": "code",
      "metadata": {
        "id": "4595PQag_kZs",
        "colab_type": "code",
        "colab": {}
      },
      "source": [
        "fig.savefig(\"graph_1.pdf\")"
      ],
      "execution_count": 617,
      "outputs": []
    },
    {
      "cell_type": "markdown",
      "metadata": {
        "id": "l39jC2T__kZv",
        "colab_type": "text"
      },
      "source": [
        "Еще одна билиотека для визуализации: [seaborn](https://jakevdp.github.io/PythonDataScienceHandbook/04.14-visualization-with-seaborn.html). Это настройка над matplotlib, иногда удобнее и красивее делать визуализации через неё. "
      ]
    },
    {
      "cell_type": "markdown",
      "metadata": {
        "id": "XXrzq_yJ_kZw",
        "colab_type": "text"
      },
      "source": [
        "### 2. Распределение студентов по курсам."
      ]
    },
    {
      "cell_type": "markdown",
      "metadata": {
        "id": "js4XzYVT_kZx",
        "colab_type": "text"
      },
      "source": [
        "Теперь вам нужно распределить студентов по осенним курсам по выбору, учитывая их предпочтения."
      ]
    },
    {
      "cell_type": "markdown",
      "metadata": {
        "id": "wTo0YOi5_kZx",
        "colab_type": "text"
      },
      "source": [
        "Алгоритм распределения студентов по курсам:\n",
        "1. По умолчанию на каждой дисциплине по выбору у 3 и 4 курсов может учиться 1 группа (до 30 студентов). Исключения описаны ниже. На blended-дисциплинах для четверокурсников количество мест не ограничено.\n",
        "2. Проводится первая волна отбора. Для каждой дисциплины формируется список тех, кто указал её первым приоритетом (если студент должен выбрать два курса по выбору, то для него дисциплины, которые он указал первым и вторым приоритетом, рассматриваются как дисциплины первого приоритета). Если желающих больше, чем мест, то выбирается топ по перцентилю рейтинга.\n",
        "3. На дисциплинах, где остались места после первой волны, формируются списки тех, кто выбрал их вторым приоритетом, и места заполняются лучшими по перцентили рейтинга студентами. После этого проводится такая же процедура для дисциплин третьего приоритета.\n",
        "4. Если студент не попал на необходимое количество курсов по итогам трёх волн, с ним связывается учебный офис и решает вопрос в индивидуальном порядке."
      ]
    },
    {
      "cell_type": "markdown",
      "metadata": {
        "id": "XRwpADk8_kZy",
        "colab_type": "text"
      },
      "source": [
        "Обращаем ваше внимание на следующие детали:\n",
        "\n",
        "- По умолчанию студент выбирает один осенний и один весенний курс по выбору, а также четверокурсники выбирают один blended-курс. Студенты групп 17-го года специализаций МОП и ТИ выбирают по 2 осенних и 2 весенних курса по выбору, также студенты групп 18' специализации МИ выбирают 2 осенних курса.\n",
        "\n",
        "- Студенты специализации МОП не могут выбрать весенним курсом по выбору Машинное обучение 2.\n",
        "\n",
        "- Blended-курсы не трогайте, по ним не надо распределять, на другие курсы они никак не влияют.\n",
        "\n",
        "- Постарайтесь воздержаться от использования циклов там, где это возможно.\n",
        "\n",
        "- На выходе ожидается файл res_fall.xlsx с результатами распределения на осенние курсы по выбору. Файл должен быть следующего формата:\n",
        "\n",
        "    * три столбца: ID, course1, course2\n",
        "    \n",
        "    * Если студент не попал на курс, но должен был, то вместо названия курса в ячейке должна быть строка \"???\"\n",
        "    \n",
        "    * Если студент должен выбрать только один курс, то в колонке course2 для него должна стоять строка \"-\"\n",
        "\n",
        "Для работы вам могут понадобиться следующие данные:\n",
        "\n",
        "- Результаты опроса (вы уже использовали этот файл в первой части задания, но на всякий случай ссылка: https://www.dropbox.com/s/f4rm8sjc3v99p0m/_end_seminar.xlsx?dl=0)\n",
        "\n",
        "- Соответствие номеров групп специализациям:\n",
        "\n",
        "    * 171, 172 - МОП; 173 - ТИ; 174 — АДИС; 175, 176 — РС; 177 — АПР\n",
        "    \n",
        "    * 181, 182 - МОП; 183 - ТИ; 184 - АДИС; 185, 186 - РС; 187 - АПР; 188 - МИ \n",
        "\n",
        "- Ограничения по количеству мест на курсах по выбору:\n",
        "\n",
        "    * Осенние: везде 30 мест, кроме Statistical Learning Theory (60 мест), Высокопроизводительных вычислений (60 мест), Анализа неструктурированных данных ($\\infty$ мест)\n",
        "\n",
        "    * Весенние: везде 30 мест, кроме Обучения с подкреплением (60 мест), Анализа данных в бизнесе (60 мест).\n",
        "\n",
        "\n",
        "Кстати, убедитесь, что в данных больше нет пропусков и повторных записей."
      ]
    },
    {
      "cell_type": "markdown",
      "metadata": {
        "id": "dSrKCREM_kZz",
        "colab_type": "text"
      },
      "source": [
        "#### 0. Проверка\n",
        "\n",
        "Для начала давайте убедимся, что вы успешно выполнили задания первой части и проверим ваши данные на наличие пропусков и повторов:"
      ]
    },
    {
      "cell_type": "code",
      "metadata": {
        "id": "SQs229ox_kZ0",
        "colab_type": "code",
        "colab": {}
      },
      "source": [
        "assert data.shape[0] == 347, 'В таблице остались повторы или потеряны данные'\n",
        "\n",
        "assert data.isna().sum().sum() == 0, 'В таблице остались пропуски'"
      ],
      "execution_count": 618,
      "outputs": []
    },
    {
      "cell_type": "markdown",
      "metadata": {
        "id": "7E7nMqxv_kZ3",
        "colab_type": "text"
      },
      "source": [
        "Если вы не получили AssertionError, то можете продолжать."
      ]
    },
    {
      "cell_type": "markdown",
      "metadata": {
        "id": "ViDFePzDkL6B",
        "colab_type": "text"
      },
      "source": [
        "Радуюсь и продолжаю"
      ]
    },
    {
      "cell_type": "markdown",
      "metadata": {
        "id": "3zm8mPjD_kZ4",
        "colab_type": "text"
      },
      "source": [
        "#### 1. [1 балл] Создайте новый признак, обозначающий, сколько осенних курсов должен выбрать студент\n",
        "\n",
        "В этом вам может помочь информация о специализации и группе стундента."
      ]
    },
    {
      "cell_type": "markdown",
      "metadata": {
        "id": "pPmGaCuJd8_W",
        "colab_type": "text"
      },
      "source": [
        "Создам множество из студентов, учащихся на МОПе на 4 курсе и из тех, кто идет на МИ. И заполню столбец 'q_fall_courses', отвечающий за количество осенних курсов студента, 2 для студентов из этого множества и 1 для всех остальных."
      ]
    },
    {
      "cell_type": "code",
      "metadata": {
        "id": "hm1rrEeG_kZ4",
        "colab_type": "code",
        "colab": {}
      },
      "source": [
        "data['q_fall_courses'] = 1\n",
        "\n",
        "mul_courses = set.union(set(data[data['17_group'] == 171]['id']),\n",
        "                        set(data[data['17_group'] == 172]['id']),\n",
        "                        set(data[data['17_group'] == 173]['id']),\n",
        "                        set(data[data['is_mi'] == 1]['id']))\n",
        "\n",
        "data.loc[data['id'].isin(mul_courses), 'q_fall_courses'] = 2"
      ],
      "execution_count": 619,
      "outputs": []
    },
    {
      "cell_type": "markdown",
      "metadata": {
        "id": "0wpJn9XT_kZ8",
        "colab_type": "text"
      },
      "source": [
        "Проверка:"
      ]
    },
    {
      "cell_type": "code",
      "metadata": {
        "id": "6H6-XXIP_kZ9",
        "colab_type": "code",
        "colab": {}
      },
      "source": [
        "col_name = 'q_fall_courses'    # insert your new column name as str\n",
        "\n",
        "assert(data[data['id'] == '2662600c2c37e11e62f6ee0b88452f22'][col_name] == 2).all()\n",
        "assert(data[data['id'] == 'd555d2805e1d93d4f023e57dc4c8f403'][col_name] == 2).all()\n",
        "assert(data[data['id'] == '8fe79f84f36e3a5d2d6745621321302c'][col_name] == 1).all()\n",
        "assert(data[data['id'] == 'e4caca755ee0bdd711e18fb8084958b5'][col_name] == 1).all()"
      ],
      "execution_count": 620,
      "outputs": []
    },
    {
      "cell_type": "markdown",
      "metadata": {
        "id": "2kRjFHSsYvKA",
        "colab_type": "text"
      },
      "source": [
        "Слава богам, ничего не упало..."
      ]
    },
    {
      "cell_type": "markdown",
      "metadata": {
        "id": "msDH9LRr_kaB",
        "colab_type": "text"
      },
      "source": [
        "#### 2. [2 балла] Распределите студентов в соответствии с первым приоритетом"
      ]
    },
    {
      "cell_type": "markdown",
      "metadata": {
        "id": "SiMb-3HvlC5l",
        "colab_type": "text"
      },
      "source": [
        "Для начала напишу функцию 'f_check_q' возвращающую количество мест на данном осеннем курсе."
      ]
    },
    {
      "cell_type": "code",
      "metadata": {
        "id": "zqabsbgjUnak",
        "colab_type": "code",
        "colab": {}
      },
      "source": [
        "def f_check_q(course, data):\n",
        "  if (course == 'Statistical Learning Theory') or (course =='Высокопроизводительные вычисления'):\n",
        "    return 60\n",
        "  elif course == 'Анализ неструктурированных данных':\n",
        "    return 2 * data.shape[0]  #не бейте, так надо...\n",
        "  else:\n",
        "    return 30"
      ],
      "execution_count": 621,
      "outputs": []
    },
    {
      "cell_type": "markdown",
      "metadata": {
        "id": "YMUvGPEFlUkT",
        "colab_type": "text"
      },
      "source": [
        "Далее отсортирую исходную табличку с данными по перцентилю, чтобы дальше было удобно выбирать людей на курсы по перцентилю."
      ]
    },
    {
      "cell_type": "code",
      "metadata": {
        "id": "_qLP60RwMOqv",
        "colab_type": "code",
        "colab": {}
      },
      "source": [
        "data = data.sort_values(by='percentile')"
      ],
      "execution_count": 622,
      "outputs": []
    },
    {
      "cell_type": "markdown",
      "metadata": {
        "id": "1MFOPIdiljy9",
        "colab_type": "text"
      },
      "source": [
        "Теперь создам множество из всех осенних курсов и подготовлю табличку для распределения по осенним курсам. А именно создам столбец из ID студентов и столбцы 'course1', 'course2'. Заполню столбец 'course1' - '???', так как каждый студент должен выбрать не менее одного курса. Столбец 'course2' заполню '???' для тех, кто должен выбрать 2 курса и '-' для всех остальных.\n"
      ]
    },
    {
      "cell_type": "code",
      "metadata": {
        "id": "oyKtS9sxMWa0",
        "colab_type": "code",
        "colab": {}
      },
      "source": [
        "courses_fall = set(np.unique(data[['fall_1', 'fall_2', 'fall_3']]))\n",
        "\n",
        "df = pd.DataFrame()  #создаем табличку\n",
        "df['ID'] = data['id']\n",
        "df['course1'] = '???'\n",
        "df['course2'] = '-'\n",
        "df.loc[df['ID'].isin(mul_courses), 'course2'] = '???'  #если нужно выбрать 2 курса, то второй - тоже '???'\n",
        "df['is_f_pl'] = NaN\n",
        "df['is_l_pl'] = NaN"
      ],
      "execution_count": 623,
      "outputs": []
    },
    {
      "cell_type": "markdown",
      "metadata": {
        "id": "Tc4TE_JbmS2_",
        "colab_type": "text"
      },
      "source": [
        "Начнем первую волну распределения. Опишу, что я вообще делаю.\n",
        "\n",
        "0) Прохожусь по всем осенним курсам\n",
        "\n",
        "1) Создаю множество из студентов выбравших этот курс первым приоритетом\n",
        "\n",
        "2) Определяю количество мест на данном курсе\n",
        "\n",
        "3) Создаю табличку из студентов, выбравших данный курс первым приоритетом (так как data отсортирована по перцентилю, то и df тоже, а значит и students бедет тоже отсортирована по перцентилю)\n",
        "\n",
        "4) Оставляю в табличке только студентов, которые проходят на текущий курс (то есть осталяю в табличке первых n студентов, где n - минимум из количества мест на курсе и количества студентов, которые выбрали этот курс первым приоритетом)\n",
        "\n",
        "5) Также заполню столбцы 'is_f_pl' (является ли студент лучшим по перцентили хотя бы на одном из курсов, куда он был зачислен ) и 'is_l_pl' (является ли студент худшим по перцентили хотя бы на одном из курсов, куда он был зачислен). Просто выбираю первого и последнего прошедшего на курс студентов.\n",
        "\n",
        "6) Заполняю курс студентам, которые прошли. Если у студента уже есть 1-ый курс по выбору, то текущий курс становится вторым курсом по выбору. А если еще нет 1-ого курса по выбору, то текущий курс им становится."
      ]
    },
    {
      "cell_type": "code",
      "metadata": {
        "id": "u_8AoZDhnweJ",
        "colab_type": "code",
        "colab": {}
      },
      "source": [
        "#первая волна распределения\n",
        "\n",
        "for course in courses_fall:\n",
        "  st_on_course = set.union(set(data[data['fall_1'] == course]['id']),\n",
        "                           set(data[((data['q_fall_courses'] == 2) & \n",
        "                                     (data['fall_2'] == course) &\n",
        "                                     (data['fall_1'] != course))]['id']))\n",
        "\n",
        "  q_st = f_check_q(course, df)\n",
        "\n",
        "  students = df.loc[df['ID'].isin(st_on_course)]\n",
        "  students = students.head(min(q_st, len(st_on_course))) \n",
        "\n",
        "  df.loc[df['ID'] == students.iloc[0]['ID'], 'is_f_pl'] = True \n",
        "  df.loc[df['ID'] == students.iloc[-1]['ID'], 'is_l_pl'] = True\n",
        "\n",
        "  df.loc[df['ID'].isin(students.loc[students['course1'] != '???', 'ID']), 'course2'] = course\n",
        "  df.loc[df['ID'].isin(students.loc[students['course1'] == '???', 'ID']), 'course1'] = course"
      ],
      "execution_count": 624,
      "outputs": []
    },
    {
      "cell_type": "markdown",
      "metadata": {
        "id": "OeVPnMA5_kaG",
        "colab_type": "text"
      },
      "source": [
        "Здесь для проверки приведена таблица, в которой есть 2 дополнительные колонки:\n",
        "    \n",
        "    1) is_first_place - является ли студент лучшим по перцентили хотя бы на одном из курсов, куда он был зачислен \n",
        "    (True / NaN)\n",
        "    \n",
        "    2) is_last_place  - является ли студент худшим по перцентили хотя бы на одном из курсов, куда он был зачислен (True / NaN)"
      ]
    },
    {
      "cell_type": "code",
      "metadata": {
        "id": "GPAk759l_kaH",
        "colab_type": "code",
        "colab": {}
      },
      "source": [
        "!wget  -O '2_task_check.csv' -q 'https://www.dropbox.com/s/v8o2zzq3iz5gc9w/_2_task_check.csv?dl=0'\n",
        "check_df = pd.read_csv('2_task_check.csv')"
      ],
      "execution_count": 625,
      "outputs": []
    },
    {
      "cell_type": "markdown",
      "metadata": {
        "id": "hxymuevcyQa5",
        "colab_type": "text"
      },
      "source": [
        "(Я решила, что логичнее будет заполнять эти столбцы не после распределения по первому приоритету, а во время, так что добавила заполнение в код выше)"
      ]
    },
    {
      "cell_type": "markdown",
      "metadata": {
        "id": "z6KFE_Mj_kaM",
        "colab_type": "text"
      },
      "source": [
        "После распределения студентов в соответствии с первым приоритетом добавьте в свой датафрейм аналогичные признаки и запустите проверку:"
      ]
    },
    {
      "cell_type": "code",
      "metadata": {
        "id": "rPG9DmBv_kaN",
        "colab_type": "code",
        "colab": {}
      },
      "source": [
        "fir_col_name = 'is_f_pl'      # insert name of your new column with is_first_place as str\n",
        "last_col_name = 'is_l_pl'     # insert name of your new column with is_last_place as str\n",
        "\n",
        "#непонятно, как в той табличке посорчены данные, так что создам сеты))))\n",
        "\n",
        "assert(set(df[df[fir_col_name].isna() == False]['ID'].reset_index(drop=True))\n",
        "            == \n",
        "       set(check_df[check_df['is_first_place'].isna() == False]['id'].reset_index(drop=True)))\n",
        "\n",
        "\n",
        "assert(set(df[df[last_col_name].isna() == False]['ID'].reset_index(drop=True))\n",
        "       == \n",
        "       set(check_df[check_df['is_last_place'].isna() == False]['id'].reset_index(drop=True)))"
      ],
      "execution_count": 626,
      "outputs": []
    },
    {
      "cell_type": "markdown",
      "metadata": {
        "id": "D6PIsWS2_kaS",
        "colab_type": "text"
      },
      "source": [
        "#### 3. [3 балла] Проведите все три волны отбора студентов на курсы по выбору"
      ]
    },
    {
      "cell_type": "markdown",
      "metadata": {
        "id": "NTd_RQENo0or",
        "colab_type": "text"
      },
      "source": [
        ""
      ]
    },
    {
      "cell_type": "markdown",
      "metadata": {
        "id": "hpkZJ2qLpQBB",
        "colab_type": "text"
      },
      "source": [
        "Для 2 и 3 волны распределения создаю функцию, считающую количество свободных мест на курсе."
      ]
    },
    {
      "cell_type": "code",
      "metadata": {
        "id": "KAsmKk17kCRl",
        "colab_type": "code",
        "colab": {}
      },
      "source": [
        "def check_q_r_pl(q_st, course, df):\n",
        "  return q_st - len(df.loc[df['course1'] == course]) - len(df.loc[df['course2'] == course]) "
      ],
      "execution_count": 627,
      "outputs": []
    },
    {
      "cell_type": "markdown",
      "metadata": {
        "id": "fL-z1vWxo1YR",
        "colab_type": "text"
      },
      "source": [
        "Так, теперь 2 волна.  Тоже опишу, что я делаю.\n",
        "\n",
        "0) Прохожусь по всем осенним курсам снова\n",
        "\n",
        "1) Создаю множество из студентов выбравших этот курс вторым приоритетом\n",
        "\n",
        "2) Определяю количество мест на данном курсе\n",
        "\n",
        "3) Определяю количество свободных мест\n",
        "\n",
        "4) Далее иду, если свободные места на курсе есть\n",
        "\n",
        "5) Создаю табличку из студентов, выбравших данный курс вторым приоритетом (так как data отсортирована по перцентилю, то и df тоже, а значит и students бедет тоже отсортирована по перцентилю)\n",
        "\n",
        "6) Оставляю в табличке только студентов, которые проходят на текущий курс (то есть осталяю в табличке первых n студентов, где n - минимум из количества мест на курсе и количества студентов, которые выбрали этот курс вторым приоритетом)\n",
        "\n",
        "7) Заполняю курс студентам, которые прошли. Если у студента уже есть 1-ый курс по выбору и ему нужно выбрать 2 курса, то текущий курс становится вторым курсом по выбору. А если еще нет 1-ого курса по выбору, то текущий курс им становится."
      ]
    },
    {
      "cell_type": "code",
      "metadata": {
        "id": "9irKrApY_kaT",
        "colab_type": "code",
        "colab": {}
      },
      "source": [
        "#вторая волна распределения\n",
        "\n",
        "for course in courses_fall:\n",
        "  q_st = f_check_q(course, df)\n",
        "  q_r_places = check_q_r_pl(q_st, course, df)\n",
        "\n",
        "  if q_r_places > 0:\n",
        "    st_on_course = set.union(set(data[(data['q_fall_courses'] == 1) &\n",
        "                                      (data['fall_2'] == course) &\n",
        "                                      (data['fall_1'] != course) &\n",
        "                                      (df['course1'] == '???')]['id']),\n",
        "                             set(data[((data['q_fall_courses'] == 2) &\n",
        "                                       (data['fall_3'] == course) &\n",
        "                                       (data['fall_2'] != course) &\n",
        "                                       (data['fall_1'] != course) &\n",
        "                                       ((df['course1'] == '???') | (df['course2'] == '???')))]['id'])) \n",
        "\n",
        "    students = df.loc[df['ID'].isin(st_on_course)]\n",
        "    students = students.head(min(q_r_places, len(st_on_course)))\n",
        "    \n",
        "    df.loc[df['ID'].isin(students.loc[(students['course1'] != '???') &\n",
        "                                      (students['course2'] == '???'), 'ID']), 'course2'] = course\n",
        "    df.loc[df['ID'].isin(students.loc[students['course1'] == '???', 'ID']), 'course1'] = course"
      ],
      "execution_count": 628,
      "outputs": []
    },
    {
      "cell_type": "markdown",
      "metadata": {
        "id": "RS83lQZ-qdq1",
        "colab_type": "text"
      },
      "source": [
        "С третьей волной алгоритм такой же."
      ]
    },
    {
      "cell_type": "code",
      "metadata": {
        "id": "llyoj-kdZYQQ",
        "colab_type": "code",
        "colab": {}
      },
      "source": [
        "#третья волна\n",
        "\n",
        "for course in courses_fall:\n",
        "  q_st = f_check_q(course, df)\n",
        "  q_r_places = check_q_r_pl(q_st, course, df)\n",
        "  if q_r_places > 0:\n",
        "    st_on_course = set(data[((data['q_fall_courses'] == 1) &\n",
        "                             (data['fall_3'] == course) &\n",
        "                             (data['fall_2'] != course) &\n",
        "                             (data['fall_1'] != course) &\n",
        "                             (df['course1'] == '???'))]['id'])\n",
        "\n",
        "    students = df.loc[df['ID'].isin(st_on_course)]\n",
        "    students = students.head(min(q_r_places, len(st_on_course)))\n",
        "\n",
        "    df.loc[df['ID'].isin(students.loc[students['course1'] == '???', 'ID']), 'course1'] = course"
      ],
      "execution_count": 629,
      "outputs": []
    },
    {
      "cell_type": "markdown",
      "metadata": {
        "id": "4VZ1iHFfqkwm",
        "colab_type": "text"
      },
      "source": [
        "А теперь сохранаю файл в двух разных форматах - csv и xlsx."
      ]
    },
    {
      "cell_type": "code",
      "metadata": {
        "id": "VLTp-eFzVeRl",
        "colab_type": "code",
        "colab": {
          "base_uri": "https://localhost:8080/",
          "height": 17
        },
        "outputId": "5d6a3091-650d-4766-d761-0f31118cbd17"
      },
      "source": [
        "from google.colab import files\n",
        "\n",
        "res_fall = df[['ID', 'course1', 'course2']]  #у нас там 2 лишних столбца, так что обрезаем\n",
        "res_fall.to_excel(\"res_fall.xlsx\", index=False)\n",
        "res_fall.to_csv('res_fall.csv', index=None)\n",
        "\n",
        "files.download(\"res_fall.xlsx\")\n",
        "files.download(\"res_fall.csv\")"
      ],
      "execution_count": 630,
      "outputs": [
        {
          "output_type": "display_data",
          "data": {
            "application/javascript": [
              "\n",
              "    async function download(id, filename, size) {\n",
              "      if (!google.colab.kernel.accessAllowed) {\n",
              "        return;\n",
              "      }\n",
              "      const div = document.createElement('div');\n",
              "      const label = document.createElement('label');\n",
              "      label.textContent = `Downloading \"${filename}\": `;\n",
              "      div.appendChild(label);\n",
              "      const progress = document.createElement('progress');\n",
              "      progress.max = size;\n",
              "      div.appendChild(progress);\n",
              "      document.body.appendChild(div);\n",
              "\n",
              "      const buffers = [];\n",
              "      let downloaded = 0;\n",
              "\n",
              "      const channel = await google.colab.kernel.comms.open(id);\n",
              "      // Send a message to notify the kernel that we're ready.\n",
              "      channel.send({})\n",
              "\n",
              "      for await (const message of channel.messages) {\n",
              "        // Send a message to notify the kernel that we're ready.\n",
              "        channel.send({})\n",
              "        if (message.buffers) {\n",
              "          for (const buffer of message.buffers) {\n",
              "            buffers.push(buffer);\n",
              "            downloaded += buffer.byteLength;\n",
              "            progress.value = downloaded;\n",
              "          }\n",
              "        }\n",
              "      }\n",
              "      const blob = new Blob(buffers, {type: 'application/binary'});\n",
              "      const a = document.createElement('a');\n",
              "      a.href = window.URL.createObjectURL(blob);\n",
              "      a.download = filename;\n",
              "      div.appendChild(a);\n",
              "      a.click();\n",
              "      div.remove();\n",
              "    }\n",
              "  "
            ],
            "text/plain": [
              "<IPython.core.display.Javascript object>"
            ]
          },
          "metadata": {
            "tags": []
          }
        },
        {
          "output_type": "display_data",
          "data": {
            "application/javascript": [
              "download(\"download_a99d0676-c17d-47d9-a325-2d6ac2a1cd0f\", \"res_fall.xlsx\", 17973)"
            ],
            "text/plain": [
              "<IPython.core.display.Javascript object>"
            ]
          },
          "metadata": {
            "tags": []
          }
        },
        {
          "output_type": "display_data",
          "data": {
            "application/javascript": [
              "\n",
              "    async function download(id, filename, size) {\n",
              "      if (!google.colab.kernel.accessAllowed) {\n",
              "        return;\n",
              "      }\n",
              "      const div = document.createElement('div');\n",
              "      const label = document.createElement('label');\n",
              "      label.textContent = `Downloading \"${filename}\": `;\n",
              "      div.appendChild(label);\n",
              "      const progress = document.createElement('progress');\n",
              "      progress.max = size;\n",
              "      div.appendChild(progress);\n",
              "      document.body.appendChild(div);\n",
              "\n",
              "      const buffers = [];\n",
              "      let downloaded = 0;\n",
              "\n",
              "      const channel = await google.colab.kernel.comms.open(id);\n",
              "      // Send a message to notify the kernel that we're ready.\n",
              "      channel.send({})\n",
              "\n",
              "      for await (const message of channel.messages) {\n",
              "        // Send a message to notify the kernel that we're ready.\n",
              "        channel.send({})\n",
              "        if (message.buffers) {\n",
              "          for (const buffer of message.buffers) {\n",
              "            buffers.push(buffer);\n",
              "            downloaded += buffer.byteLength;\n",
              "            progress.value = downloaded;\n",
              "          }\n",
              "        }\n",
              "      }\n",
              "      const blob = new Blob(buffers, {type: 'application/binary'});\n",
              "      const a = document.createElement('a');\n",
              "      a.href = window.URL.createObjectURL(blob);\n",
              "      a.download = filename;\n",
              "      div.appendChild(a);\n",
              "      a.click();\n",
              "      div.remove();\n",
              "    }\n",
              "  "
            ],
            "text/plain": [
              "<IPython.core.display.Javascript object>"
            ]
          },
          "metadata": {
            "tags": []
          }
        },
        {
          "output_type": "display_data",
          "data": {
            "application/javascript": [
              "download(\"download_d329d330-0c0d-49b2-b018-556f4733efc0\", \"res_fall.csv\", 34454)"
            ],
            "text/plain": [
              "<IPython.core.display.Javascript object>"
            ]
          },
          "metadata": {
            "tags": []
          }
        }
      ]
    },
    {
      "cell_type": "markdown",
      "metadata": {
        "id": "1T7CRm97yvQU",
        "colab_type": "text"
      },
      "source": [
        "Мой никнейм в Яндекс Контесте: dianasusla\n",
        "\n",
        "Ссылка на успешню посылку: https://contest.yandex.ru/contest/19782/run-report/34651330/"
      ]
    },
    {
      "cell_type": "markdown",
      "metadata": {
        "id": "4uNJnq8M_kaZ",
        "colab_type": "text"
      },
      "source": [
        "**Не забудьте сдать вместе с ноутбуком файл res_fall.xlsx, формат которого был описан выше**"
      ]
    },
    {
      "cell_type": "markdown",
      "metadata": {
        "id": "OlbksczC_kaa",
        "colab_type": "text"
      },
      "source": [
        "**Дополнительное задание. [2 бонусных балла] Распределите таким же образом студентов еще и на весенние курсы по выбору.**\n",
        "\n",
        "Если ваш код был хорошо структурирован, то это не составит проблем. \n",
        "\n",
        "Если вы выполнили это задание, сдайте среди прочего файл res_spring.xlsx в таком же формате, как и res_fall.xlsx."
      ]
    },
    {
      "cell_type": "markdown",
      "metadata": {
        "id": "FIUJqPcpfBiR",
        "colab_type": "text"
      },
      "source": [
        "Для начала создадим еще один столбец в исходной таблице, отвечающий за количество весенних курсов студента. Так там будет более удобно работать дальше."
      ]
    },
    {
      "cell_type": "code",
      "metadata": {
        "id": "OQWxQMeifAJk",
        "colab_type": "code",
        "colab": {}
      },
      "source": [
        "data['q_spring_courses'] = 1\n",
        "\n",
        "mul_courses_s = set.union(set(data[data['17_group'] == 171]['id']),\n",
        "                        set(data[data['17_group'] == 172]['id']),\n",
        "                        set(data[data['17_group'] == 173]['id']))\n",
        "\n",
        "data.loc[data['id'].isin(mul_courses_s), 'q_spring_courses'] = 2"
      ],
      "execution_count": 631,
      "outputs": []
    },
    {
      "cell_type": "markdown",
      "metadata": {
        "id": "WKXxdzh1uRY-",
        "colab_type": "text"
      },
      "source": [
        "Посмотрю на людей с МОПа, выбравших каким-то из приоритетов на весну МО-2.\n",
        "Можно заметить, что нет ни одного студента, который бы выбрал МО-2 двумя или более приоритетами."
      ]
    },
    {
      "cell_type": "code",
      "metadata": {
        "id": "npAVrp8YtUst",
        "colab_type": "code",
        "colab": {
          "base_uri": "https://localhost:8080/",
          "height": 534
        },
        "outputId": "45395e66-9f26-46dd-90aa-2c476b92a72d"
      },
      "source": [
        "data[(data['is_ml_student'] == 1) & ((data['spring_1'] == 'Машинное обучение 2') |\n",
        "                                     (data['spring_2'] == 'Машинное обучение 2') |\n",
        "                                     (data['spring_3'] == 'Машинное обучение 2'))]"
      ],
      "execution_count": 632,
      "outputs": [
        {
          "output_type": "execute_result",
          "data": {
            "text/html": [
              "<div>\n",
              "<style scoped>\n",
              "    .dataframe tbody tr th:only-of-type {\n",
              "        vertical-align: middle;\n",
              "    }\n",
              "\n",
              "    .dataframe tbody tr th {\n",
              "        vertical-align: top;\n",
              "    }\n",
              "\n",
              "    .dataframe thead th {\n",
              "        text-align: right;\n",
              "    }\n",
              "</style>\n",
              "<table border=\"1\" class=\"dataframe\">\n",
              "  <thead>\n",
              "    <tr style=\"text-align: right;\">\n",
              "      <th></th>\n",
              "      <th>index</th>\n",
              "      <th>timestamp</th>\n",
              "      <th>id</th>\n",
              "      <th>rating</th>\n",
              "      <th>18_group</th>\n",
              "      <th>is_mi</th>\n",
              "      <th>fall_1</th>\n",
              "      <th>fall_2</th>\n",
              "      <th>fall_3</th>\n",
              "      <th>spring_1</th>\n",
              "      <th>spring_2</th>\n",
              "      <th>spring_3</th>\n",
              "      <th>is_first_time</th>\n",
              "      <th>percentile</th>\n",
              "      <th>17_group</th>\n",
              "      <th>blended</th>\n",
              "      <th>is_ml_student</th>\n",
              "      <th>q_fall_courses</th>\n",
              "      <th>q_spring_courses</th>\n",
              "    </tr>\n",
              "  </thead>\n",
              "  <tbody>\n",
              "    <tr>\n",
              "      <th>20</th>\n",
              "      <td>20</td>\n",
              "      <td>2020-05-15 21:55:16.699</td>\n",
              "      <td>f0f6f3881894172a0f04e79b554b49e6</td>\n",
              "      <td>673</td>\n",
              "      <td>181.0</td>\n",
              "      <td>0.0</td>\n",
              "      <td>Безопасность компьютерных систем</td>\n",
              "      <td>Сбор и обработка данных с помощью краудсорсинга</td>\n",
              "      <td>Принятие решений в условиях риска и неопределё...</td>\n",
              "      <td>Машинное обучение 2</td>\n",
              "      <td>Численные методы</td>\n",
              "      <td>Дополнительные главы прикладной статистики</td>\n",
              "      <td>Да</td>\n",
              "      <td>0.300448</td>\n",
              "      <td>0.0</td>\n",
              "      <td></td>\n",
              "      <td>1.0</td>\n",
              "      <td>1</td>\n",
              "      <td>1</td>\n",
              "    </tr>\n",
              "    <tr>\n",
              "      <th>171</th>\n",
              "      <td>179</td>\n",
              "      <td>2020-05-18 23:01:03.214</td>\n",
              "      <td>abceddfa2fc4eae8cff4a4e712abb3fb</td>\n",
              "      <td>664</td>\n",
              "      <td>183.0</td>\n",
              "      <td>0.0</td>\n",
              "      <td>Моделирование временных рядов</td>\n",
              "      <td>Принятие решений в условиях риска и неопределё...</td>\n",
              "      <td>Statistical Learning Theory</td>\n",
              "      <td>Машинное обучение 2</td>\n",
              "      <td>Промышленное программирование на языке Java</td>\n",
              "      <td>Дополнительные главы прикладной статистики</td>\n",
              "      <td>Да</td>\n",
              "      <td>0.345291</td>\n",
              "      <td>0.0</td>\n",
              "      <td></td>\n",
              "      <td>1.0</td>\n",
              "      <td>1</td>\n",
              "      <td>1</td>\n",
              "    </tr>\n",
              "    <tr>\n",
              "      <th>116</th>\n",
              "      <td>119</td>\n",
              "      <td>2020-05-18 20:34:07.220</td>\n",
              "      <td>fc2c60b8004aa91bc272df84628621ff</td>\n",
              "      <td>639</td>\n",
              "      <td>183.0</td>\n",
              "      <td>0.0</td>\n",
              "      <td>Язык SQL</td>\n",
              "      <td>Сбор и обработка данных с помощью краудсорсинга</td>\n",
              "      <td>Statistical Learning Theory</td>\n",
              "      <td>Системы баз данных</td>\n",
              "      <td>Машинное обучение 2</td>\n",
              "      <td>Анализ данных в бизнесе</td>\n",
              "      <td>Нет</td>\n",
              "      <td>0.461883</td>\n",
              "      <td>0.0</td>\n",
              "      <td></td>\n",
              "      <td>1.0</td>\n",
              "      <td>1</td>\n",
              "      <td>1</td>\n",
              "    </tr>\n",
              "    <tr>\n",
              "      <th>26</th>\n",
              "      <td>27</td>\n",
              "      <td>2020-05-16 13:02:24.706</td>\n",
              "      <td>5daee1bd98559bb2c52373e416942225</td>\n",
              "      <td>593</td>\n",
              "      <td>182.0</td>\n",
              "      <td>0.0</td>\n",
              "      <td>Сбор и обработка данных с помощью краудсорсинга</td>\n",
              "      <td>Statistical Learning Theory</td>\n",
              "      <td>Моделирование временных рядов</td>\n",
              "      <td>Машинное обучение 2</td>\n",
              "      <td>Промышленное программирование на языке Java</td>\n",
              "      <td>Анализ данных в бизнесе</td>\n",
              "      <td>Нет</td>\n",
              "      <td>0.681614</td>\n",
              "      <td>0.0</td>\n",
              "      <td></td>\n",
              "      <td>1.0</td>\n",
              "      <td>1</td>\n",
              "      <td>1</td>\n",
              "    </tr>\n",
              "    <tr>\n",
              "      <th>132</th>\n",
              "      <td>137</td>\n",
              "      <td>2020-05-18 21:24:23.667</td>\n",
              "      <td>6ed89e424179b0510e3f7c0cb7369ad6</td>\n",
              "      <td>558</td>\n",
              "      <td>187.0</td>\n",
              "      <td>0.0</td>\n",
              "      <td>Моделирование временных рядов</td>\n",
              "      <td>Матричные вычисления</td>\n",
              "      <td>Язык SQL</td>\n",
              "      <td>Анализ данных в бизнесе</td>\n",
              "      <td>Промышленное программирование на языке Java</td>\n",
              "      <td>Машинное обучение 2</td>\n",
              "      <td>Да</td>\n",
              "      <td>0.838565</td>\n",
              "      <td>0.0</td>\n",
              "      <td></td>\n",
              "      <td>1.0</td>\n",
              "      <td>1</td>\n",
              "      <td>1</td>\n",
              "    </tr>\n",
              "  </tbody>\n",
              "</table>\n",
              "</div>"
            ],
            "text/plain": [
              "     index               timestamp  ... q_fall_courses  q_spring_courses\n",
              "20      20 2020-05-15 21:55:16.699  ...              1                 1\n",
              "171    179 2020-05-18 23:01:03.214  ...              1                 1\n",
              "116    119 2020-05-18 20:34:07.220  ...              1                 1\n",
              "26      27 2020-05-16 13:02:24.706  ...              1                 1\n",
              "132    137 2020-05-18 21:24:23.667  ...              1                 1\n",
              "\n",
              "[5 rows x 19 columns]"
            ]
          },
          "metadata": {
            "tags": []
          },
          "execution_count": 632
        }
      ]
    },
    {
      "cell_type": "markdown",
      "metadata": {
        "id": "9Y_KO0Vp64IP",
        "colab_type": "text"
      },
      "source": [
        "Так как ни один человек с МОПа не выбрал МО-2 двумя или тремя приоритетами, то мы можем просто сдвинуть приоритеты. То есть у них просто не будет третьего приоритета.\n",
        "\n",
        "Создадим новую табличку с исходными данными, в которой уже будут сдвинуты приоритеты для людей с МОПа, выбравших МО-2 (то есть если МО-2 было первым приоритетом, то второй приоритет становится третим, а третий вторым, третий так и остается; если МО-2 было вторым приоритетом, то вторым приоритетом становится третий, третий так и остается; а если МО-2 было третим приоритетом, то дублируем на третий приритет второй приоритет (там уже точно не МО-2)). Таким образом с ней можно будет распределить студентов по весенним курсам идентично распределению по осенним."
      ]
    },
    {
      "cell_type": "code",
      "metadata": {
        "id": "qsAoj50V63k-",
        "colab_type": "code",
        "colab": {}
      },
      "source": [
        "data_ml = data\n",
        "data_ml.loc[(data_ml['is_ml_student'] == 1) & (data_ml['spring_1'] == 'Машинное обучение 2'), ['spring_1','spring_2']] = data_ml.loc[(data_ml['is_ml_student'] == 1) & (data_ml['spring_1'] == 'Машинное обучение 2'), ['spring_2', 'spring_3']].values\n",
        "data_ml.loc[(data_ml['is_ml_student'] == 1) & (data_ml['spring_2'] == 'Машинное обучение 2'), 'spring_2'] = data_ml.loc[(data_ml['is_ml_student'] == 1) & (data_ml['spring_2'] == 'Машинное обучение 2'), 'spring_3']\n",
        "data_ml.loc[(data_ml['is_ml_student'] == 1) & (data_ml['spring_3'] == 'Машинное обучение 2'), 'spring_3'] = data_ml.loc[(data_ml['is_ml_student'] == 1) & (data_ml['spring_3'] == 'Машинное обучение 2'), 'spring_2']"
      ],
      "execution_count": 633,
      "outputs": []
    },
    {
      "cell_type": "markdown",
      "metadata": {
        "id": "N1KtjQ8uvE14",
        "colab_type": "text"
      },
      "source": [
        "Сделаю функцию, возвращающую количество мест на весеннем курсе."
      ]
    },
    {
      "cell_type": "code",
      "metadata": {
        "id": "ySQcvomR_kab",
        "colab_type": "code",
        "colab": {}
      },
      "source": [
        "def s_check_q(course):\n",
        "  if (course == 'Обучение с подкреплением') or (course =='Анализ данных в бизнесе'):\n",
        "    return 60\n",
        "  else:\n",
        "    return 30"
      ],
      "execution_count": 634,
      "outputs": []
    },
    {
      "cell_type": "markdown",
      "metadata": {
        "id": "0g86Z_ShvOL9",
        "colab_type": "text"
      },
      "source": [
        "Подготавливаю табличку с распределением на весенние курсы."
      ]
    },
    {
      "cell_type": "code",
      "metadata": {
        "id": "8E5N2GrO_kai",
        "colab_type": "code",
        "colab": {}
      },
      "source": [
        "courses_spring = set(np.unique(data_ml[['spring_1', 'spring_2', 'spring_3']]))\n",
        "\n",
        "df_s = pd.DataFrame()\n",
        "df_s['ID'] = data_ml['id']\n",
        "df_s['course1'] = '???'\n",
        "df_s['course2'] = '-'\n",
        "df_s.loc[df_s['ID'].isin(mul_courses_s), 'course2'] = '???'"
      ],
      "execution_count": 635,
      "outputs": []
    },
    {
      "cell_type": "markdown",
      "metadata": {
        "id": "ZymEursiq87T",
        "colab_type": "text"
      },
      "source": [
        "Три волны распределения на весенние курсы по выбору идентичны распределению на осенние курсы, так что описывать алгоритм уже не буду."
      ]
    },
    {
      "cell_type": "code",
      "metadata": {
        "id": "IFDF4N4t5crR",
        "colab_type": "code",
        "colab": {}
      },
      "source": [
        "#первая волна распределения\n",
        "\n",
        "for course in courses_spring:\n",
        "  st_on_course = set.union(set(data_ml[data_ml['spring_1'] == course]['id']),\n",
        "                       set(data_ml[(data_ml['q_spring_courses'] == 2) &\n",
        "                                 (data_ml['spring_2'] == course) &\n",
        "                                 (data_ml['spring_1'] != course)]['id']))\n",
        "\n",
        "  q_st = s_check_q(course)\n",
        "\n",
        "  students = df_s.loc[df_s['ID'].isin(st_on_course)]\n",
        "  students = students.head(min(q_st, len(st_on_course))) \n",
        "\n",
        "  df_s.loc[df_s['ID'].isin(students.loc[students['course1'] != '???', 'ID']), 'course2'] = course\n",
        "  df_s.loc[df_s['ID'].isin(students.loc[students['course1'] == '???', 'ID']), 'course1'] = course"
      ],
      "execution_count": 636,
      "outputs": []
    },
    {
      "cell_type": "code",
      "metadata": {
        "id": "w56sxhXPV_gv",
        "colab_type": "code",
        "colab": {}
      },
      "source": [
        "#вторая волна распределения\n",
        "\n",
        "for course in courses_spring:\n",
        "  q_st = s_check_q(course)\n",
        "  q_r_places = check_q_r_pl(q_st, course, df_s)\n",
        "\n",
        "  if q_r_places > 0:\n",
        "    st_on_course = set.union(set(data_ml[(data_ml['q_spring_courses'] == 1) &\n",
        "                                      (data_ml['spring_2'] == course) &\n",
        "                                      (data_ml['spring_1'] != course) &\n",
        "                                      (df_s['course1'] == '???')]['id']),\n",
        "                       set(data_ml[((data_ml['q_spring_courses'] == 2) &\n",
        "                                 (data_ml['spring_3'] == course) &\n",
        "                                 (data_ml['spring_2'] != course) &\n",
        "                                 (data_ml['spring_1'] != course) &\n",
        "                                 ((df_s['course1'] == '???') | (df_s['course2'] == '???')))]['id'])) \n",
        "\n",
        "    students = df_s.loc[df_s['ID'].isin(st_on_course)]\n",
        "    students = students.head(min(q_r_places, len(st_on_course)))\n",
        "    \n",
        "    df_s.loc[df_s['ID'].isin(students.loc[(students['course1'] != '???') &\n",
        "                                      (students['course2'] == '???'), 'ID']), 'course2'] = course\n",
        "    df_s.loc[df_s['ID'].isin(students.loc[students['course1'] == '???', 'ID']), 'course1'] = course"
      ],
      "execution_count": 637,
      "outputs": []
    },
    {
      "cell_type": "code",
      "metadata": {
        "id": "A4ATPdriV_tB",
        "colab_type": "code",
        "colab": {}
      },
      "source": [
        "#третья волна\n",
        "\n",
        "for course in courses_spring:\n",
        "  q_st = s_check_q(course)\n",
        "  q_r_places = check_q_r_pl(q_st, course, df_s)\n",
        "  if q_r_places > 0:\n",
        "    st_on_course = set(data_ml[((data_ml['q_spring_courses'] == 1) &\n",
        "                             (data_ml['spring_3'] == course) &\n",
        "                             (data_ml['spring_2'] != course) &\n",
        "                             (data_ml['spring_1'] != course) &\n",
        "                             (df_s['course1'] == '???'))]['id'])\n",
        "\n",
        "    students = df_s.loc[df_s['ID'].isin(st_on_course)]\n",
        "    students = students.head(min(q_r_places, len(st_on_course)))\n",
        "\n",
        "    df_s.loc[df_s['ID'].isin(students.loc[students['course1'] == '???', 'ID']), 'course1'] = course"
      ],
      "execution_count": 638,
      "outputs": []
    },
    {
      "cell_type": "code",
      "metadata": {
        "id": "SRQerDQ_yQ5K",
        "colab_type": "code",
        "colab": {
          "base_uri": "https://localhost:8080/",
          "height": 17
        },
        "outputId": "9005ba1d-664a-47c6-90de-c4a1c65bb286"
      },
      "source": [
        "res_spring = df_s[['ID', 'course1', 'course2']]\n",
        "res_spring.to_excel(\"res_spring.xlsx\", index=False)\n",
        "res_spring.to_csv('res_spring.csv', index=None)\n",
        "\n",
        "files.download(\"res_spring.csv\")\n",
        "files.download(\"res_spring.xlsx\")"
      ],
      "execution_count": 639,
      "outputs": [
        {
          "output_type": "display_data",
          "data": {
            "application/javascript": [
              "\n",
              "    async function download(id, filename, size) {\n",
              "      if (!google.colab.kernel.accessAllowed) {\n",
              "        return;\n",
              "      }\n",
              "      const div = document.createElement('div');\n",
              "      const label = document.createElement('label');\n",
              "      label.textContent = `Downloading \"${filename}\": `;\n",
              "      div.appendChild(label);\n",
              "      const progress = document.createElement('progress');\n",
              "      progress.max = size;\n",
              "      div.appendChild(progress);\n",
              "      document.body.appendChild(div);\n",
              "\n",
              "      const buffers = [];\n",
              "      let downloaded = 0;\n",
              "\n",
              "      const channel = await google.colab.kernel.comms.open(id);\n",
              "      // Send a message to notify the kernel that we're ready.\n",
              "      channel.send({})\n",
              "\n",
              "      for await (const message of channel.messages) {\n",
              "        // Send a message to notify the kernel that we're ready.\n",
              "        channel.send({})\n",
              "        if (message.buffers) {\n",
              "          for (const buffer of message.buffers) {\n",
              "            buffers.push(buffer);\n",
              "            downloaded += buffer.byteLength;\n",
              "            progress.value = downloaded;\n",
              "          }\n",
              "        }\n",
              "      }\n",
              "      const blob = new Blob(buffers, {type: 'application/binary'});\n",
              "      const a = document.createElement('a');\n",
              "      a.href = window.URL.createObjectURL(blob);\n",
              "      a.download = filename;\n",
              "      div.appendChild(a);\n",
              "      a.click();\n",
              "      div.remove();\n",
              "    }\n",
              "  "
            ],
            "text/plain": [
              "<IPython.core.display.Javascript object>"
            ]
          },
          "metadata": {
            "tags": []
          }
        },
        {
          "output_type": "display_data",
          "data": {
            "application/javascript": [
              "download(\"download_883c26e9-f7aa-40b4-8b93-27cdc60b93df\", \"res_spring.csv\", 33321)"
            ],
            "text/plain": [
              "<IPython.core.display.Javascript object>"
            ]
          },
          "metadata": {
            "tags": []
          }
        },
        {
          "output_type": "display_data",
          "data": {
            "application/javascript": [
              "\n",
              "    async function download(id, filename, size) {\n",
              "      if (!google.colab.kernel.accessAllowed) {\n",
              "        return;\n",
              "      }\n",
              "      const div = document.createElement('div');\n",
              "      const label = document.createElement('label');\n",
              "      label.textContent = `Downloading \"${filename}\": `;\n",
              "      div.appendChild(label);\n",
              "      const progress = document.createElement('progress');\n",
              "      progress.max = size;\n",
              "      div.appendChild(progress);\n",
              "      document.body.appendChild(div);\n",
              "\n",
              "      const buffers = [];\n",
              "      let downloaded = 0;\n",
              "\n",
              "      const channel = await google.colab.kernel.comms.open(id);\n",
              "      // Send a message to notify the kernel that we're ready.\n",
              "      channel.send({})\n",
              "\n",
              "      for await (const message of channel.messages) {\n",
              "        // Send a message to notify the kernel that we're ready.\n",
              "        channel.send({})\n",
              "        if (message.buffers) {\n",
              "          for (const buffer of message.buffers) {\n",
              "            buffers.push(buffer);\n",
              "            downloaded += buffer.byteLength;\n",
              "            progress.value = downloaded;\n",
              "          }\n",
              "        }\n",
              "      }\n",
              "      const blob = new Blob(buffers, {type: 'application/binary'});\n",
              "      const a = document.createElement('a');\n",
              "      a.href = window.URL.createObjectURL(blob);\n",
              "      a.download = filename;\n",
              "      div.appendChild(a);\n",
              "      a.click();\n",
              "      div.remove();\n",
              "    }\n",
              "  "
            ],
            "text/plain": [
              "<IPython.core.display.Javascript object>"
            ]
          },
          "metadata": {
            "tags": []
          }
        },
        {
          "output_type": "display_data",
          "data": {
            "application/javascript": [
              "download(\"download_27a41d42-ff8f-4559-b719-3ffa60095fbd\", \"res_spring.xlsx\", 17964)"
            ],
            "text/plain": [
              "<IPython.core.display.Javascript object>"
            ]
          },
          "metadata": {
            "tags": []
          }
        }
      ]
    },
    {
      "cell_type": "markdown",
      "metadata": {
        "id": "nFnB3ZykzF2g",
        "colab_type": "text"
      },
      "source": [
        "Ссылка на успешнкю посылку в контесте:\n",
        "https://contest.yandex.ru/contest/19782/run-report/34672615/"
      ]
    },
    {
      "cell_type": "markdown",
      "metadata": {
        "id": "fsGmR09y_kam",
        "colab_type": "text"
      },
      "source": [
        "Вставьте картинку, описывающую ваш опыт выполнения этого задания:"
      ]
    },
    {
      "cell_type": "markdown",
      "metadata": {
        "id": "kB8SwAej2vTx",
        "colab_type": "text"
      },
      "source": [
        "<img src=\"https://i.gifer.com/1hZ.gif\">\n",
        "<img src=\"https://i.gifer.com/2GU.gif\">\n",
        "\n",
        "(Надо мысленно совместить 2 эти гифки и получится болеющая я, которая делает МО)\n"
      ]
    }
  ]
}